{
 "cells": [
  {
   "cell_type": "markdown",
   "metadata": {},
   "source": [
    "# HW8 Solution Walkthrough (R)\n",
    "#### Columbia University APAN 5310 - SQL & Relational Databases (Fall 2018)\n",
    "\n",
    "*Prepared by Nick Machairas. Posted on Nov. 13, 2018*\n",
    "\n",
    "---\n",
    "\n",
    "First, import necessary packages:"
   ]
  },
  {
   "cell_type": "code",
   "execution_count": 1,
   "metadata": {},
   "outputs": [
    {
     "name": "stderr",
     "output_type": "stream",
     "text": [
      "Loading required package: RPostgreSQL\n",
      "Loading required package: DBI\n"
     ]
    }
   ],
   "source": [
    "require('RPostgreSQL')"
   ]
  },
  {
   "cell_type": "markdown",
   "metadata": {},
   "source": [
    "## Dataset inspection\n",
    "\n",
    "Load the ``csv`` file in a dataframe, ``df``:"
   ]
  },
  {
   "cell_type": "code",
   "execution_count": 2,
   "metadata": {},
   "outputs": [],
   "source": [
    "df <- read.csv('hw8_dataset_f18.csv')"
   ]
  },
  {
   "cell_type": "code",
   "execution_count": 3,
   "metadata": {},
   "outputs": [
    {
     "data": {
      "text/html": [
       "<table>\n",
       "<thead><tr><th scope=col>first_name</th><th scope=col>last_name</th><th scope=col>email</th><th scope=col>cell_phone</th><th scope=col>movie_title</th><th scope=col>movie_genres</th><th scope=col>purchase_datetime</th><th scope=col>movie_price</th></tr></thead>\n",
       "<tbody>\n",
       "\t<tr><td>Jackqueline                </td><td>Dulanty                    </td><td>jdulanty0@goo.ne.jp        </td><td>+960-657-528-2938          </td><td>Thirteenth Floor, The      </td><td>Drama|Sci-Fi|Thriller      </td><td>2018-08-27 17:29:17        </td><td> 4.04                      </td></tr>\n",
       "\t<tr><td>Merrili                    </td><td>Fost                       </td><td>mfost1@nps.gov             </td><td>+351-633-272-4106          </td><td>Furies, The                </td><td>Drama|Romance|Western      </td><td>2018-08-20 08:42:38        </td><td> 6.96                      </td></tr>\n",
       "\t<tr><td>Shae                       </td><td>Haberfield                 </td><td>shaberfield2@ihg.com       </td><td>+62-629-240-2964           </td><td>Smart Money                </td><td>Crime|Drama                </td><td>2018-07-24 00:15:35        </td><td>13.47                      </td></tr>\n",
       "\t<tr><td>Kennie                     </td><td>Church                     </td><td>kchurch3@nature.com        </td><td>+381-486-928-8686          </td><td>Wishful Thinking           </td><td>Comedy                     </td><td>2018-09-22 11:01:17        </td><td>13.40                      </td></tr>\n",
       "\t<tr><td>Shadow                     </td><td>Puckett                    </td><td>spuckett4@shareasale.com   </td><td>+27-611-497-3264           </td><td>You Are God (Jestes Bogiem)</td><td>Drama                      </td><td>2018-01-15 08:41:31        </td><td>10.38                      </td></tr>\n",
       "\t<tr><td>Rici                       </td><td>Burnett                    </td><td>rburnett5@state.tx.us      </td><td>                           </td><td>Through the Forest         </td><td>Drama                      </td><td>2018-04-01 05:16:02        </td><td> 5.36                      </td></tr>\n",
       "</tbody>\n",
       "</table>\n"
      ],
      "text/latex": [
       "\\begin{tabular}{r|llllllll}\n",
       " first\\_name & last\\_name & email & cell\\_phone & movie\\_title & movie\\_genres & purchase\\_datetime & movie\\_price\\\\\n",
       "\\hline\n",
       "\t Jackqueline                               & Dulanty                                   & jdulanty0@goo.ne.jp                       & +960-657-528-2938                         & Thirteenth Floor, The                     & Drama\\textbar{}Sci-Fi\\textbar{}Thriller & 2018-08-27 17:29:17                       &  4.04                                    \\\\\n",
       "\t Merrili                                   & Fost                                      & mfost1@nps.gov                            & +351-633-272-4106                         & Furies, The                               & Drama\\textbar{}Romance\\textbar{}Western & 2018-08-20 08:42:38                       &  6.96                                    \\\\\n",
       "\t Shae                            & Haberfield                      & shaberfield2@ihg.com            & +62-629-240-2964                & Smart Money                     & Crime\\textbar{}Drama           & 2018-07-24 00:15:35             & 13.47                          \\\\\n",
       "\t Kennie                      & Church                      & kchurch3@nature.com         & +381-486-928-8686           & Wishful Thinking            & Comedy                      & 2018-09-22 11:01:17         & 13.40                      \\\\\n",
       "\t Shadow                      & Puckett                     & spuckett4@shareasale.com    & +27-611-497-3264            & You Are God (Jestes Bogiem) & Drama                       & 2018-01-15 08:41:31         & 10.38                      \\\\\n",
       "\t Rici                        & Burnett                     & rburnett5@state.tx.us       &                             & Through the Forest          & Drama                       & 2018-04-01 05:16:02         &  5.36                      \\\\\n",
       "\\end{tabular}\n"
      ],
      "text/markdown": [
       "\n",
       "first_name | last_name | email | cell_phone | movie_title | movie_genres | purchase_datetime | movie_price | \n",
       "|---|---|---|---|---|---|\n",
       "| Jackqueline                 | Dulanty                     | jdulanty0@goo.ne.jp         | +960-657-528-2938           | Thirteenth Floor, The       | Drama|Sci-Fi|Thriller       | 2018-08-27 17:29:17         |  4.04                       | \n",
       "| Merrili                     | Fost                        | mfost1@nps.gov              | +351-633-272-4106           | Furies, The                 | Drama|Romance|Western       | 2018-08-20 08:42:38         |  6.96                       | \n",
       "| Shae                        | Haberfield                  | shaberfield2@ihg.com        | +62-629-240-2964            | Smart Money                 | Crime|Drama                 | 2018-07-24 00:15:35         | 13.47                       | \n",
       "| Kennie                      | Church                      | kchurch3@nature.com         | +381-486-928-8686           | Wishful Thinking            | Comedy                      | 2018-09-22 11:01:17         | 13.40                       | \n",
       "| Shadow                      | Puckett                     | spuckett4@shareasale.com    | +27-611-497-3264            | You Are God (Jestes Bogiem) | Drama                       | 2018-01-15 08:41:31         | 10.38                       | \n",
       "| Rici                        | Burnett                     | rburnett5@state.tx.us       |                             | Through the Forest          | Drama                       | 2018-04-01 05:16:02         |  5.36                       | \n",
       "\n",
       "\n"
      ],
      "text/plain": [
       "  first_name  last_name  email                    cell_phone       \n",
       "1 Jackqueline Dulanty    jdulanty0@goo.ne.jp      +960-657-528-2938\n",
       "2 Merrili     Fost       mfost1@nps.gov           +351-633-272-4106\n",
       "3 Shae        Haberfield shaberfield2@ihg.com     +62-629-240-2964 \n",
       "4 Kennie      Church     kchurch3@nature.com      +381-486-928-8686\n",
       "5 Shadow      Puckett    spuckett4@shareasale.com +27-611-497-3264 \n",
       "6 Rici        Burnett    rburnett5@state.tx.us                     \n",
       "  movie_title                 movie_genres          purchase_datetime  \n",
       "1 Thirteenth Floor, The       Drama|Sci-Fi|Thriller 2018-08-27 17:29:17\n",
       "2 Furies, The                 Drama|Romance|Western 2018-08-20 08:42:38\n",
       "3 Smart Money                 Crime|Drama           2018-07-24 00:15:35\n",
       "4 Wishful Thinking            Comedy                2018-09-22 11:01:17\n",
       "5 You Are God (Jestes Bogiem) Drama                 2018-01-15 08:41:31\n",
       "6 Through the Forest          Drama                 2018-04-01 05:16:02\n",
       "  movie_price\n",
       "1  4.04      \n",
       "2  6.96      \n",
       "3 13.47      \n",
       "4 13.40      \n",
       "5 10.38      \n",
       "6  5.36      "
      ]
     },
     "metadata": {},
     "output_type": "display_data"
    }
   ],
   "source": [
    "head(df)"
   ]
  },
  {
   "cell_type": "markdown",
   "metadata": {},
   "source": [
    "Always good practice to check for repeating and null values in the dataset."
   ]
  },
  {
   "cell_type": "code",
   "execution_count": 4,
   "metadata": {},
   "outputs": [
    {
     "data": {
      "text/plain": [
       "   first_name       last_name                          email    \n",
       " Chicky :  3   Bare      :  2   aaburrowcl@telegraph.co.uk:  1  \n",
       " Lois   :  3   Blackmuir :  2   aackeroydp5@upenn.edu     :  1  \n",
       " Sasha  :  3   Breem     :  2   aairdrie8v@hud.gov        :  1  \n",
       " Shae   :  3   Brettle   :  2   aajeanon@mac.com          :  1  \n",
       " Abbye  :  2   Crossgrove:  2   aarzu7a@addtoany.com      :  1  \n",
       " Alfonse:  2   Hamilton  :  2   abannon6b@google.nl       :  1  \n",
       " (Other):984   (Other)   :988   (Other)                   :994  \n",
       "           cell_phone              movie_title          movie_genres\n",
       "                :110   Whirlygirl        :  3   Drama         :153  \n",
       " +1-113-110-7075:  1   Afterwards        :  2   Comedy        :103  \n",
       " +1-202-880-6525:  1   Borrowers, The    :  2   Documentary   : 64  \n",
       " +1-215-311-2939:  1   Burn After Reading:  2   Drama|Romance : 40  \n",
       " +1-239-985-2589:  1   Chosen, The       :  2   Comedy|Drama  : 39  \n",
       " +1-286-233-3268:  1   Dirty Dozen, The  :  2   Comedy|Romance: 23  \n",
       " (Other)        :885   (Other)           :987   (Other)       :578  \n",
       "           purchase_datetime  movie_price    \n",
       " 2016-11-01 07:54:06:  1     Min.   : 1.000  \n",
       " 2016-11-01 18:24:07:  1     1st Qu.: 5.410  \n",
       " 2016-11-01 20:18:40:  1     Median : 9.765  \n",
       " 2016-11-02 20:52:37:  1     Mean   : 9.817  \n",
       " 2016-11-02 21:19:25:  1     3rd Qu.:14.062  \n",
       " 2016-11-04 00:20:59:  1     Max.   :19.000  \n",
       " (Other)            :994                     "
      ]
     },
     "metadata": {},
     "output_type": "display_data"
    }
   ],
   "source": [
    "summary(df)"
   ]
  },
  {
   "cell_type": "markdown",
   "metadata": {},
   "source": [
    "As we can see above, there are 1000 rows in the dataframe. All columns have been assigned \"object\" datatype except for movie price that was interpreted as \"numeric\". Also, all columns have data for 1000 rows except for \"cell_phone\" which has data in 890 rows, hence, 110 NULL values. We will need to take this in to account when designing the database tables. In the context of online orders, an email is perhaps more important than a phone number, hence, it should be acceptable to have NULL values for cell phone numbers.\n",
    "\n",
    "Next, we have to check for repeating values. Are there 1000 individual movie titles? If not, is the price equal among the same movie titles? Are there 1000 individual customers?\n",
    "\n",
    "For movie titles, we can see from the output of the summary function above that there are indeed titles which are repeating such as \"Whirlygirl\" and \"Afterwards\". What about the prices of these movies?"
   ]
  },
  {
   "cell_type": "code",
   "execution_count": 5,
   "metadata": {},
   "outputs": [
    {
     "data": {
      "text/html": [
       "<table>\n",
       "<thead><tr><th></th><th scope=col>movie_title</th><th scope=col>movie_price</th></tr></thead>\n",
       "<tbody>\n",
       "\t<tr><th scope=row>156</th><td>Whirlygirl</td><td> 2.92     </td></tr>\n",
       "\t<tr><th scope=row>504</th><td>Afterwards</td><td>13.13     </td></tr>\n",
       "\t<tr><th scope=row>525</th><td>Afterwards</td><td>14.88     </td></tr>\n",
       "\t<tr><th scope=row>695</th><td>Whirlygirl</td><td> 2.24     </td></tr>\n",
       "\t<tr><th scope=row>816</th><td>Whirlygirl</td><td>17.97     </td></tr>\n",
       "</tbody>\n",
       "</table>\n"
      ],
      "text/latex": [
       "\\begin{tabular}{r|ll}\n",
       "  & movie\\_title & movie\\_price\\\\\n",
       "\\hline\n",
       "\t156 & Whirlygirl &  2.92     \\\\\n",
       "\t504 & Afterwards & 13.13     \\\\\n",
       "\t525 & Afterwards & 14.88     \\\\\n",
       "\t695 & Whirlygirl &  2.24     \\\\\n",
       "\t816 & Whirlygirl & 17.97     \\\\\n",
       "\\end{tabular}\n"
      ],
      "text/markdown": [
       "\n",
       "| <!--/--> | movie_title | movie_price | \n",
       "|---|---|---|---|---|\n",
       "| 156 | Whirlygirl |  2.92      | \n",
       "| 504 | Afterwards | 13.13      | \n",
       "| 525 | Afterwards | 14.88      | \n",
       "| 695 | Whirlygirl |  2.24      | \n",
       "| 816 | Whirlygirl | 17.97      | \n",
       "\n",
       "\n"
      ],
      "text/plain": [
       "    movie_title movie_price\n",
       "156 Whirlygirl   2.92      \n",
       "504 Afterwards  13.13      \n",
       "525 Afterwards  14.88      \n",
       "695 Whirlygirl   2.24      \n",
       "816 Whirlygirl  17.97      "
      ]
     },
     "metadata": {},
     "output_type": "display_data"
    }
   ],
   "source": [
    "df[c('movie_title', 'movie_price')][df$movie_title %in% c('Afterwards','Whirlygirl'),]"
   ]
  },
  {
   "cell_type": "markdown",
   "metadata": {},
   "source": [
    "Movie price is different per purchase. This must serve as a hint that prices are not linked to the movies, rather, price is set at checkout. For example, a customer might have a coupon and get a discount on the movie.\n",
    "\n",
    "Moving on to unique customers..."
   ]
  },
  {
   "cell_type": "code",
   "execution_count": 6,
   "metadata": {},
   "outputs": [
    {
     "data": {
      "text/html": [
       "<table>\n",
       "<thead><tr><th scope=col>first_name</th><th scope=col>last_name</th><th scope=col>email</th><th scope=col>cell_phone</th><th scope=col>movie_title</th><th scope=col>movie_genres</th><th scope=col>purchase_datetime</th><th scope=col>movie_price</th></tr></thead>\n",
       "<tbody>\n",
       "</tbody>\n",
       "</table>\n"
      ],
      "text/latex": [
       "\\begin{tabular}{r|llllllll}\n",
       " first\\_name & last\\_name & email & cell\\_phone & movie\\_title & movie\\_genres & purchase\\_datetime & movie\\_price\\\\\n",
       "\\hline\n",
       "\\end{tabular}\n"
      ],
      "text/markdown": [
       "\n",
       "first_name | last_name | email | cell_phone | movie_title | movie_genres | purchase_datetime | movie_price | \n",
       "||\n",
       "\n",
       "\n"
      ],
      "text/plain": [
       "     first_name last_name email cell_phone movie_title movie_genres\n",
       "     purchase_datetime movie_price"
      ]
     },
     "metadata": {},
     "output_type": "display_data"
    }
   ],
   "source": [
    "df[duplicated(df[c('first_name', 'last_name')]),]"
   ]
  },
  {
   "cell_type": "markdown",
   "metadata": {},
   "source": [
    "Since the length of the resulting subset of ``df`` by using ``duplicated()`` is 0, we can assert that within the given dataset, there are no orders made by the same person. Keep in mind however, that this might be possible in larger datasets and in any case it is reasonable to assume that one customer can purchase multiple movies."
   ]
  },
  {
   "cell_type": "markdown",
   "metadata": {},
   "source": [
    "## Normalization\n",
    "\n",
    "- Normalization plan can be designed with a few rows of data, not the entire dataset\n",
    "- Movies can have multiple genres, seperated with the pipe symbol (\"|\")\n",
    "\n",
    "Let's work with the first three rows of data of the original, unnormalized dataset:"
   ]
  },
  {
   "cell_type": "code",
   "execution_count": 7,
   "metadata": {},
   "outputs": [
    {
     "data": {
      "text/html": [
       "<table>\n",
       "<thead><tr><th scope=col>first_name</th><th scope=col>last_name</th><th scope=col>email</th><th scope=col>cell_phone</th><th scope=col>movie_title</th><th scope=col>movie_genres</th><th scope=col>purchase_datetime</th><th scope=col>movie_price</th></tr></thead>\n",
       "<tbody>\n",
       "\t<tr><td>Jackqueline          </td><td>Dulanty              </td><td>jdulanty0@goo.ne.jp  </td><td>+960-657-528-2938    </td><td>Thirteenth Floor, The</td><td>Drama|Sci-Fi|Thriller</td><td>2018-08-27 17:29:17  </td><td> 4.04                </td></tr>\n",
       "\t<tr><td>Merrili              </td><td>Fost                 </td><td>mfost1@nps.gov       </td><td>+351-633-272-4106    </td><td>Furies, The          </td><td>Drama|Romance|Western</td><td>2018-08-20 08:42:38  </td><td> 6.96                </td></tr>\n",
       "\t<tr><td>Shae                 </td><td>Haberfield           </td><td>shaberfield2@ihg.com </td><td>+62-629-240-2964     </td><td>Smart Money          </td><td>Crime|Drama          </td><td>2018-07-24 00:15:35  </td><td>13.47                </td></tr>\n",
       "</tbody>\n",
       "</table>\n"
      ],
      "text/latex": [
       "\\begin{tabular}{r|llllllll}\n",
       " first\\_name & last\\_name & email & cell\\_phone & movie\\_title & movie\\_genres & purchase\\_datetime & movie\\_price\\\\\n",
       "\\hline\n",
       "\t Jackqueline                               & Dulanty                                   & jdulanty0@goo.ne.jp                       & +960-657-528-2938                         & Thirteenth Floor, The                     & Drama\\textbar{}Sci-Fi\\textbar{}Thriller & 2018-08-27 17:29:17                       &  4.04                                    \\\\\n",
       "\t Merrili                                   & Fost                                      & mfost1@nps.gov                            & +351-633-272-4106                         & Furies, The                               & Drama\\textbar{}Romance\\textbar{}Western & 2018-08-20 08:42:38                       &  6.96                                    \\\\\n",
       "\t Shae                            & Haberfield                      & shaberfield2@ihg.com            & +62-629-240-2964                & Smart Money                     & Crime\\textbar{}Drama           & 2018-07-24 00:15:35             & 13.47                          \\\\\n",
       "\\end{tabular}\n"
      ],
      "text/markdown": [
       "\n",
       "first_name | last_name | email | cell_phone | movie_title | movie_genres | purchase_datetime | movie_price | \n",
       "|---|---|---|\n",
       "| Jackqueline           | Dulanty               | jdulanty0@goo.ne.jp   | +960-657-528-2938     | Thirteenth Floor, The | Drama|Sci-Fi|Thriller | 2018-08-27 17:29:17   |  4.04                 | \n",
       "| Merrili               | Fost                  | mfost1@nps.gov        | +351-633-272-4106     | Furies, The           | Drama|Romance|Western | 2018-08-20 08:42:38   |  6.96                 | \n",
       "| Shae                  | Haberfield            | shaberfield2@ihg.com  | +62-629-240-2964      | Smart Money           | Crime|Drama           | 2018-07-24 00:15:35   | 13.47                 | \n",
       "\n",
       "\n"
      ],
      "text/plain": [
       "  first_name  last_name  email                cell_phone       \n",
       "1 Jackqueline Dulanty    jdulanty0@goo.ne.jp  +960-657-528-2938\n",
       "2 Merrili     Fost       mfost1@nps.gov       +351-633-272-4106\n",
       "3 Shae        Haberfield shaberfield2@ihg.com +62-629-240-2964 \n",
       "  movie_title           movie_genres          purchase_datetime   movie_price\n",
       "1 Thirteenth Floor, The Drama|Sci-Fi|Thriller 2018-08-27 17:29:17  4.04      \n",
       "2 Furies, The           Drama|Romance|Western 2018-08-20 08:42:38  6.96      \n",
       "3 Smart Money           Crime|Drama           2018-07-24 00:15:35 13.47      "
      ]
     },
     "metadata": {},
     "output_type": "display_data"
    }
   ],
   "source": [
    "head(df,3)"
   ]
  },
  {
   "cell_type": "markdown",
   "metadata": {},
   "source": [
    "### 1NF: Domains of all table attributes must be atomic and there cannot be repeating attributes\n",
    "\n",
    "- Primary keys are noted with (PK)\n",
    "- The original ``movie_genres`` column was not atomic and was separated into the ``genres`` table.\n",
    "- The ``customers_movies`` table has a composite primary key. Rows were expanded to relate movies to genres.\n",
    "\n",
    "\n",
    "#### ``customer_movies`` table:\n",
    "\n",
    "|customer_id (PK)|genre_id (PK)|first_name|last_name|email|cell_phone|movie_title|purchase_datetime|movie_price|\n",
    "|----|----|----|----|----|----|----|----|----|\n",
    "|1|1|Jackqueline|Dulanty|jdulanty0@goo.ne.jp|+960-657-528-2938|Thirteenth Floor, The|2018-08-27 17:29:17|4.04|\n",
    "|1|2|Jackqueline|Dulanty|jdulanty0@goo.ne.jp|+960-657-528-2938|Thirteenth Floor, The|2018-08-27 17:29:17|4.04|\n",
    "|1|3|Jackqueline|Dulanty|jdulanty0@goo.ne.jp|+960-657-528-2938|Thirteenth Floor, The|2018-08-27 17:29:17|4.04|\n",
    "|2|1|Merrili|Fost|mfost1@nps.gov|+351-633-272-4106|Furies, The|2018-08-20 08:42:38|6.96|\n",
    "|2|4|Merrili|Fost|mfost1@nps.gov|+351-633-272-4106|Furies, The|2018-08-20 08:42:38|6.96|\n",
    "|2|5|Merrili|Fost|mfost1@nps.gov|+351-633-272-4106|Furies, The|2018-08-20 08:42:38|6.96|\n",
    "|3|6|Shae|Haberfield|shaberfield2@ihg.com|+62-629-240-2964|Smart Money|2018-07-24 00:15:35|13.47|\n",
    "|3|1|Shae|Haberfield|shaberfield2@ihg.com|+62-629-240-2964|Smart Money|2018-07-24 00:15:35|13.47|\n",
    "|...|...|...|...|...|...|...|...|...|\n",
    "\n",
    "\n",
    "\n",
    "#### ``genres`` table:\n",
    "\n",
    "|genre_id (PK)|genre|\n",
    "|----|----|\n",
    "|1|Drama|\n",
    "|2|Sci-Fi|\n",
    "|3|Thriller|\n",
    "|4|Romance|\n",
    "|5|Western|\n",
    "|6|Crime|\n",
    "|...|...|\n",
    "\n",
    "\n"
   ]
  },
  {
   "cell_type": "markdown",
   "metadata": {},
   "source": [
    "### 2NF: Must be in 1NF and every non-key attribute must be fully dependent on the key\n",
    "\n",
    "- ``first_name``, ``last_name``, ``email`` and ``cell_phone`` were moved to a new ``customers`` table to satisfy 2NF rules\n",
    "- ``movie_title`` and ``movie_price`` were moved to a new ``movies`` table to satisfy 2NF rules.\n",
    "- a new ``movie_genres`` table was created to remove the ``genre_id`` from the 1NF ``customers_movies`` table and satisfy 2NF rules. Notice that this way movies can have multiple genres and if the name of a genre is updated it will reflect on all movies.\n",
    "- a new ``orders`` table was created to accomodate the ``purchase_datetime`` attribute and relate movies to customers\n",
    "\n",
    "\n",
    "#### ``customer`` table:\n",
    "\n",
    "|customer_id (PK)|first_name|last_name|email|cell_phone|\n",
    "|----|----|----|----|----|\n",
    "|1|Jackqueline|Dulanty|jdulanty0@goo.ne.jp|+960-657-528-2938|\n",
    "|2|Merrili|Fost|mfost1@nps.gov|+351-633-272-4106|\n",
    "|3|Shae|Haberfield|shaberfield2@ihg.com|+62-629-240-2964|\n",
    "|...|...|...|...|...|\n",
    "\n",
    "\n",
    "#### ``movies`` table:\n",
    "\n",
    "|movie_id (PK)|movie_title|movie_price|\n",
    "|----|----|----|\n",
    "|1|Thirteenth Floor, The|4.04|\n",
    "|2|Furies, The|6.96|\n",
    "|3|Smart Money|13.47|\n",
    "|...|...|...|\n",
    "\n",
    "\n",
    "#### ``genres`` table:\n",
    "\n",
    "|genre_id (PK)|genre|\n",
    "|----|----|\n",
    "|1|Drama|\n",
    "|2|Sci-Fi|\n",
    "|3|Thriller|\n",
    "|4|Romance|\n",
    "|5|Western|\n",
    "|6|Crime|\n",
    "|...|...|\n",
    "\n",
    "\n",
    "#### ``movie_genres`` table:\n",
    "\n",
    "|movie_id (PK)|genre_id (PK)|\n",
    "|----|----|\n",
    "|1|1|\n",
    "|1|2|\n",
    "|1|3|\n",
    "|2|1|\n",
    "|2|4|\n",
    "|2|5|\n",
    "|3|6|\n",
    "|3|1|\n",
    "|...|...|\n",
    "\n",
    "#### ``orders`` table:\n",
    "\n",
    "|customer_id (PK)|movie_id (PK)|purchase_datetime|\n",
    "|----|----|----|\n",
    "|1|1|2018-08-27 17:29:17|\n",
    "|2|2|2018-08-20 08:42:38|\n",
    "|3|3|2018-07-24 00:15:35|\n",
    "|...|...|...|"
   ]
  },
  {
   "cell_type": "markdown",
   "metadata": {},
   "source": [
    "### 3NF: Must be in 2NF and every non-key attribute must be non-transitively dependent on the key\n",
    "\n",
    "This is a little bit tricky... When inspecting the dataset, we observed that prices for the same movie might not be the same. In which case ``movie_price`` should be part of the ``orders`` table instead of the ``movies`` table. \n",
    "\n",
    "\n",
    "#### ``customer`` table:\n",
    "\n",
    "|customer_id (PK)|first_name|last_name|email|cell_phone|\n",
    "|----|----|----|----|----|\n",
    "|1|Jackqueline|Dulanty|jdulanty0@goo.ne.jp|+960-657-528-2938|\n",
    "|2|Merrili|Fost|mfost1@nps.gov|+351-633-272-4106|\n",
    "|3|Shae|Haberfield|shaberfield2@ihg.com|+62-629-240-2964|\n",
    "|...|...|...|...|...|\n",
    "\n",
    "\n",
    "#### ``movies`` table:\n",
    "\n",
    "|movie_id (PK)|movie_title|\n",
    "|----|----|\n",
    "|1|Thirteenth Floor, The|\n",
    "|2|Furies, The|\n",
    "|3|Smart Money|\n",
    "|...|...|\n",
    "\n",
    "\n",
    "#### ``genres`` table:\n",
    "\n",
    "|genre_id (PK)|genre|\n",
    "|----|----|\n",
    "|1|Drama|\n",
    "|2|Sci-Fi|\n",
    "|3|Thriller|\n",
    "|4|Romance|\n",
    "|5|Western|\n",
    "|6|Crime|\n",
    "|...|...|\n",
    "\n",
    "\n",
    "#### ``movie_genres`` table:\n",
    "\n",
    "|movie_id (PK)|genre_id (PK)|\n",
    "|----|----|\n",
    "|1|1|\n",
    "|1|2|\n",
    "|1|3|\n",
    "|2|1|\n",
    "|2|4|\n",
    "|2|5|\n",
    "|3|6|\n",
    "|3|1|\n",
    "|...|...|\n",
    "\n",
    "#### ``orders`` table:\n",
    "\n",
    "|customer_id (PK)|movie_id (PK)|movie_price|purchase_datetime|\n",
    "|----|----|----|----|\n",
    "|1|1|4.04|2018-08-27 17:29:17|\n",
    "|2|2|6.96|2018-08-20 08:42:38|\n",
    "|3|3|13.47|2018-07-24 00:15:35|\n",
    "|...|...|...|...|"
   ]
  },
  {
   "cell_type": "markdown",
   "metadata": {},
   "source": [
    "### Entity Relationship Diagram\n",
    "\n",
    "During the initial design phase and normalization, it is always good to draw the Entity Relationship Diagram (ERD) in order to visualize entities and relationship sets. This often helps to determine proper cardinalities and spot mistakes.\n",
    "\n",
    "Below is the link to the ERD as defined after normalization.\n",
    "\n",
    "https://lucid.app/lucidchart/282a41d2-2969-451e-98f1-edb476f8e4d5/view"
   ]
  },
  {
   "cell_type": "markdown",
   "metadata": {},
   "source": [
    "## Create database tables\n",
    "\n",
    "Based on the normalization plan we are now ready to create the database tables. Before running the commands below, make sure you have created a ``movie_store`` database in pgAdmin or psql."
   ]
  },
  {
   "cell_type": "code",
   "execution_count": 8,
   "metadata": {},
   "outputs": [
    {
     "data": {
      "text/html": [],
      "text/latex": [],
      "text/markdown": [],
      "text/plain": [
       "<0 x 0 matrix>"
      ]
     },
     "metadata": {},
     "output_type": "display_data"
    }
   ],
   "source": [
    "# Load the PostgreSQL driver\n",
    "drv <- dbDriver('PostgreSQL')\n",
    "\n",
    "# Create a connection\n",
    "con <- dbConnect(drv, dbname = 'movie_store',\n",
    "                 host = 'localhost', port = 5432,\n",
    "                 user = 'postgres', password = 'pwd4APAN5310')\n",
    "\n",
    "# Pass the SQL statements that create all tables\n",
    "stmt <- \"\n",
    "    CREATE TABLE customers (\n",
    "        customer_id   integer,\n",
    "        first_name    varchar(50) NOT NULL,\n",
    "        last_name     varchar(50) NOT NULL,\n",
    "        email         varchar(50) NOT NULL,\n",
    "        cell_phone    varchar(20),\n",
    "        PRIMARY KEY (customer_id)\n",
    "    );\n",
    "    \n",
    "    CREATE TABLE movies (\n",
    "        movie_id      integer,\n",
    "        movie_title   varchar(100) NOT NULL,\n",
    "        PRIMARY KEY (movie_id)\n",
    "    );\n",
    "    \n",
    "    CREATE TABLE genres (\n",
    "        genre_id      integer,\n",
    "        genre         varchar(20) NOT NULL,\n",
    "        PRIMARY KEY (genre_id)\n",
    "    );\n",
    "    \n",
    "    CREATE TABLE movie_genres (\n",
    "        movie_id      integer,\n",
    "        genre_id      integer,\n",
    "        PRIMARY KEY (movie_id, genre_id),\n",
    "        FOREIGN KEY (movie_id) REFERENCES movies (movie_id),\n",
    "        FOREIGN KEY (genre_id) REFERENCES genres (genre_id)\n",
    "    );\n",
    "    \n",
    "    CREATE TABLE orders (\n",
    "        customer_id   integer,\n",
    "        movie_id      integer,\n",
    "        movie_price   numeric(5,2) NOT NULL,\n",
    "        purchase_datetime  timestamp NOT NULL,\n",
    "        PRIMARY KEY (customer_id, movie_id),\n",
    "        FOREIGN KEY (customer_id) REFERENCES customers (customer_id),\n",
    "        FOREIGN KEY (movie_id) REFERENCES movies (movie_id)\n",
    "    );\n",
    "\"\n",
    "\n",
    "# Execute the statement to create tables\n",
    "dbGetQuery(con, stmt)"
   ]
  },
  {
   "cell_type": "markdown",
   "metadata": {},
   "source": [
    "## Extract, Transform and Load (ETL)\n",
    "\n",
    "With the database and all tables created (3NF), it is now time to extract, transform and load (ETL) the dataset into the database. In order to do so we will have to perform several data transformations on the loaded dataframe, ``df`` in order to create all primary keys and maintain proper relationships. For hints, we may refer back to the normalization plan and the steps taken to produce a 3NF design.\n",
    "\n",
    "Since all customers in the dataset are unique, we can create a new column with incrementing integer numbers for ``customer_id``."
   ]
  },
  {
   "cell_type": "code",
   "execution_count": 9,
   "metadata": {},
   "outputs": [],
   "source": [
    "df$customer_id <- 1:nrow(df)"
   ]
  },
  {
   "cell_type": "markdown",
   "metadata": {},
   "source": [
    "Let's take a look:"
   ]
  },
  {
   "cell_type": "code",
   "execution_count": 10,
   "metadata": {},
   "outputs": [
    {
     "data": {
      "text/html": [
       "<table>\n",
       "<thead><tr><th scope=col>first_name</th><th scope=col>last_name</th><th scope=col>email</th><th scope=col>cell_phone</th><th scope=col>movie_title</th><th scope=col>movie_genres</th><th scope=col>purchase_datetime</th><th scope=col>movie_price</th><th scope=col>customer_id</th></tr></thead>\n",
       "<tbody>\n",
       "\t<tr><td>Jackqueline                </td><td>Dulanty                    </td><td>jdulanty0@goo.ne.jp        </td><td>+960-657-528-2938          </td><td>Thirteenth Floor, The      </td><td>Drama|Sci-Fi|Thriller      </td><td>2018-08-27 17:29:17        </td><td> 4.04                      </td><td>1                          </td></tr>\n",
       "\t<tr><td>Merrili                    </td><td>Fost                       </td><td>mfost1@nps.gov             </td><td>+351-633-272-4106          </td><td>Furies, The                </td><td>Drama|Romance|Western      </td><td>2018-08-20 08:42:38        </td><td> 6.96                      </td><td>2                          </td></tr>\n",
       "\t<tr><td>Shae                       </td><td>Haberfield                 </td><td>shaberfield2@ihg.com       </td><td>+62-629-240-2964           </td><td>Smart Money                </td><td>Crime|Drama                </td><td>2018-07-24 00:15:35        </td><td>13.47                      </td><td>3                          </td></tr>\n",
       "\t<tr><td>Kennie                     </td><td>Church                     </td><td>kchurch3@nature.com        </td><td>+381-486-928-8686          </td><td>Wishful Thinking           </td><td>Comedy                     </td><td>2018-09-22 11:01:17        </td><td>13.40                      </td><td>4                          </td></tr>\n",
       "\t<tr><td>Shadow                     </td><td>Puckett                    </td><td>spuckett4@shareasale.com   </td><td>+27-611-497-3264           </td><td>You Are God (Jestes Bogiem)</td><td>Drama                      </td><td>2018-01-15 08:41:31        </td><td>10.38                      </td><td>5                          </td></tr>\n",
       "\t<tr><td>Rici                       </td><td>Burnett                    </td><td>rburnett5@state.tx.us      </td><td>                           </td><td>Through the Forest         </td><td>Drama                      </td><td>2018-04-01 05:16:02        </td><td> 5.36                      </td><td>6                          </td></tr>\n",
       "</tbody>\n",
       "</table>\n"
      ],
      "text/latex": [
       "\\begin{tabular}{r|lllllllll}\n",
       " first\\_name & last\\_name & email & cell\\_phone & movie\\_title & movie\\_genres & purchase\\_datetime & movie\\_price & customer\\_id\\\\\n",
       "\\hline\n",
       "\t Jackqueline                               & Dulanty                                   & jdulanty0@goo.ne.jp                       & +960-657-528-2938                         & Thirteenth Floor, The                     & Drama\\textbar{}Sci-Fi\\textbar{}Thriller & 2018-08-27 17:29:17                       &  4.04                                     & 1                                        \\\\\n",
       "\t Merrili                                   & Fost                                      & mfost1@nps.gov                            & +351-633-272-4106                         & Furies, The                               & Drama\\textbar{}Romance\\textbar{}Western & 2018-08-20 08:42:38                       &  6.96                                     & 2                                        \\\\\n",
       "\t Shae                            & Haberfield                      & shaberfield2@ihg.com            & +62-629-240-2964                & Smart Money                     & Crime\\textbar{}Drama           & 2018-07-24 00:15:35             & 13.47                           & 3                              \\\\\n",
       "\t Kennie                      & Church                      & kchurch3@nature.com         & +381-486-928-8686           & Wishful Thinking            & Comedy                      & 2018-09-22 11:01:17         & 13.40                       & 4                          \\\\\n",
       "\t Shadow                      & Puckett                     & spuckett4@shareasale.com    & +27-611-497-3264            & You Are God (Jestes Bogiem) & Drama                       & 2018-01-15 08:41:31         & 10.38                       & 5                          \\\\\n",
       "\t Rici                        & Burnett                     & rburnett5@state.tx.us       &                             & Through the Forest          & Drama                       & 2018-04-01 05:16:02         &  5.36                       & 6                          \\\\\n",
       "\\end{tabular}\n"
      ],
      "text/markdown": [
       "\n",
       "first_name | last_name | email | cell_phone | movie_title | movie_genres | purchase_datetime | movie_price | customer_id | \n",
       "|---|---|---|---|---|---|\n",
       "| Jackqueline                 | Dulanty                     | jdulanty0@goo.ne.jp         | +960-657-528-2938           | Thirteenth Floor, The       | Drama|Sci-Fi|Thriller       | 2018-08-27 17:29:17         |  4.04                       | 1                           | \n",
       "| Merrili                     | Fost                        | mfost1@nps.gov              | +351-633-272-4106           | Furies, The                 | Drama|Romance|Western       | 2018-08-20 08:42:38         |  6.96                       | 2                           | \n",
       "| Shae                        | Haberfield                  | shaberfield2@ihg.com        | +62-629-240-2964            | Smart Money                 | Crime|Drama                 | 2018-07-24 00:15:35         | 13.47                       | 3                           | \n",
       "| Kennie                      | Church                      | kchurch3@nature.com         | +381-486-928-8686           | Wishful Thinking            | Comedy                      | 2018-09-22 11:01:17         | 13.40                       | 4                           | \n",
       "| Shadow                      | Puckett                     | spuckett4@shareasale.com    | +27-611-497-3264            | You Are God (Jestes Bogiem) | Drama                       | 2018-01-15 08:41:31         | 10.38                       | 5                           | \n",
       "| Rici                        | Burnett                     | rburnett5@state.tx.us       |                             | Through the Forest          | Drama                       | 2018-04-01 05:16:02         |  5.36                       | 6                           | \n",
       "\n",
       "\n"
      ],
      "text/plain": [
       "  first_name  last_name  email                    cell_phone       \n",
       "1 Jackqueline Dulanty    jdulanty0@goo.ne.jp      +960-657-528-2938\n",
       "2 Merrili     Fost       mfost1@nps.gov           +351-633-272-4106\n",
       "3 Shae        Haberfield shaberfield2@ihg.com     +62-629-240-2964 \n",
       "4 Kennie      Church     kchurch3@nature.com      +381-486-928-8686\n",
       "5 Shadow      Puckett    spuckett4@shareasale.com +27-611-497-3264 \n",
       "6 Rici        Burnett    rburnett5@state.tx.us                     \n",
       "  movie_title                 movie_genres          purchase_datetime  \n",
       "1 Thirteenth Floor, The       Drama|Sci-Fi|Thriller 2018-08-27 17:29:17\n",
       "2 Furies, The                 Drama|Romance|Western 2018-08-20 08:42:38\n",
       "3 Smart Money                 Crime|Drama           2018-07-24 00:15:35\n",
       "4 Wishful Thinking            Comedy                2018-09-22 11:01:17\n",
       "5 You Are God (Jestes Bogiem) Drama                 2018-01-15 08:41:31\n",
       "6 Through the Forest          Drama                 2018-04-01 05:16:02\n",
       "  movie_price customer_id\n",
       "1  4.04       1          \n",
       "2  6.96       2          \n",
       "3 13.47       3          \n",
       "4 13.40       4          \n",
       "5 10.38       5          \n",
       "6  5.36       6          "
      ]
     },
     "metadata": {},
     "output_type": "display_data"
    }
   ],
   "source": [
    "head(df)"
   ]
  },
  {
   "cell_type": "markdown",
   "metadata": {},
   "source": [
    "We can now easily create a subset of ``df`` corresponding to the ``customers`` database table."
   ]
  },
  {
   "cell_type": "code",
   "execution_count": 11,
   "metadata": {},
   "outputs": [],
   "source": [
    "customers_df <- df[c('customer_id', 'first_name', 'last_name', 'email', 'cell_phone')]"
   ]
  },
  {
   "cell_type": "code",
   "execution_count": 12,
   "metadata": {},
   "outputs": [
    {
     "data": {
      "text/html": [
       "<table>\n",
       "<thead><tr><th scope=col>customer_id</th><th scope=col>first_name</th><th scope=col>last_name</th><th scope=col>email</th><th scope=col>cell_phone</th></tr></thead>\n",
       "<tbody>\n",
       "\t<tr><td>1                       </td><td>Jackqueline             </td><td>Dulanty                 </td><td>jdulanty0@goo.ne.jp     </td><td>+960-657-528-2938       </td></tr>\n",
       "\t<tr><td>2                       </td><td>Merrili                 </td><td>Fost                    </td><td>mfost1@nps.gov          </td><td>+351-633-272-4106       </td></tr>\n",
       "\t<tr><td>3                       </td><td>Shae                    </td><td>Haberfield              </td><td>shaberfield2@ihg.com    </td><td>+62-629-240-2964        </td></tr>\n",
       "\t<tr><td>4                       </td><td>Kennie                  </td><td>Church                  </td><td>kchurch3@nature.com     </td><td>+381-486-928-8686       </td></tr>\n",
       "\t<tr><td>5                       </td><td>Shadow                  </td><td>Puckett                 </td><td>spuckett4@shareasale.com</td><td>+27-611-497-3264        </td></tr>\n",
       "\t<tr><td>6                       </td><td>Rici                    </td><td>Burnett                 </td><td>rburnett5@state.tx.us   </td><td>                        </td></tr>\n",
       "</tbody>\n",
       "</table>\n"
      ],
      "text/latex": [
       "\\begin{tabular}{r|lllll}\n",
       " customer\\_id & first\\_name & last\\_name & email & cell\\_phone\\\\\n",
       "\\hline\n",
       "\t 1                        & Jackqueline              & Dulanty                  & jdulanty0@goo.ne.jp      & +960-657-528-2938       \\\\\n",
       "\t 2                        & Merrili                  & Fost                     & mfost1@nps.gov           & +351-633-272-4106       \\\\\n",
       "\t 3                        & Shae                     & Haberfield               & shaberfield2@ihg.com     & +62-629-240-2964        \\\\\n",
       "\t 4                        & Kennie                   & Church                   & kchurch3@nature.com      & +381-486-928-8686       \\\\\n",
       "\t 5                        & Shadow                   & Puckett                  & spuckett4@shareasale.com & +27-611-497-3264        \\\\\n",
       "\t 6                        & Rici                     & Burnett                  & rburnett5@state.tx.us    &                         \\\\\n",
       "\\end{tabular}\n"
      ],
      "text/markdown": [
       "\n",
       "customer_id | first_name | last_name | email | cell_phone | \n",
       "|---|---|---|---|---|---|\n",
       "| 1                        | Jackqueline              | Dulanty                  | jdulanty0@goo.ne.jp      | +960-657-528-2938        | \n",
       "| 2                        | Merrili                  | Fost                     | mfost1@nps.gov           | +351-633-272-4106        | \n",
       "| 3                        | Shae                     | Haberfield               | shaberfield2@ihg.com     | +62-629-240-2964         | \n",
       "| 4                        | Kennie                   | Church                   | kchurch3@nature.com      | +381-486-928-8686        | \n",
       "| 5                        | Shadow                   | Puckett                  | spuckett4@shareasale.com | +27-611-497-3264         | \n",
       "| 6                        | Rici                     | Burnett                  | rburnett5@state.tx.us    |                          | \n",
       "\n",
       "\n"
      ],
      "text/plain": [
       "  customer_id first_name  last_name  email                    cell_phone       \n",
       "1 1           Jackqueline Dulanty    jdulanty0@goo.ne.jp      +960-657-528-2938\n",
       "2 2           Merrili     Fost       mfost1@nps.gov           +351-633-272-4106\n",
       "3 3           Shae        Haberfield shaberfield2@ihg.com     +62-629-240-2964 \n",
       "4 4           Kennie      Church     kchurch3@nature.com      +381-486-928-8686\n",
       "5 5           Shadow      Puckett    spuckett4@shareasale.com +27-611-497-3264 \n",
       "6 6           Rici        Burnett    rburnett5@state.tx.us                     "
      ]
     },
     "metadata": {},
     "output_type": "display_data"
    }
   ],
   "source": [
    "head(customers_df)"
   ]
  },
  {
   "cell_type": "markdown",
   "metadata": {},
   "source": [
    "And it is now possible to load customer data to the database.\n",
    "\n",
    "*Note: remember that the connection url, engine and connection were initialized earlier therefore we do not have to repeate them hereon.*"
   ]
  },
  {
   "cell_type": "code",
   "execution_count": 13,
   "metadata": {},
   "outputs": [
    {
     "data": {
      "text/html": [
       "TRUE"
      ],
      "text/latex": [
       "TRUE"
      ],
      "text/markdown": [
       "TRUE"
      ],
      "text/plain": [
       "[1] TRUE"
      ]
     },
     "metadata": {},
     "output_type": "display_data"
    }
   ],
   "source": [
    "dbWriteTable(con, name=\"customers\", value=customers_df, row.names=FALSE, append=TRUE)"
   ]
  },
  {
   "cell_type": "markdown",
   "metadata": {},
   "source": [
    "One table down, four to go...\n",
    "\n",
    "Next, we will work on the ``movies`` table. Within the dataset there are repeating movie titles so we cannot simply add a column with incrementing integer numbers for the primary key of movies as this would lead to movies with multiple primary keys. There are several approaches to tackle this problem. One could be to write a function or a for-loop that loops through movie titles and assigns integer numbers accordingly. Since this is a relatively simple dataset, we will create a temporary dataframe with the unique movie titles only, add a column of incrementing integer numbers and then map these numbers back to the main dataframe, ``df``."
   ]
  },
  {
   "cell_type": "code",
   "execution_count": 14,
   "metadata": {},
   "outputs": [],
   "source": [
    "# Create temporary dataframe with unique movie titles\n",
    "temp_movie_df <- data.frame('movie_title' = unique(df$movie_title))\n",
    "\n",
    "# Add incrementing integers\n",
    "temp_movie_df$movie_id <- 1:nrow(temp_movie_df) "
   ]
  },
  {
   "cell_type": "code",
   "execution_count": 15,
   "metadata": {},
   "outputs": [
    {
     "data": {
      "text/html": [
       "<table>\n",
       "<thead><tr><th scope=col>movie_title</th><th scope=col>movie_id</th></tr></thead>\n",
       "<tbody>\n",
       "\t<tr><td>Thirteenth Floor, The      </td><td>1                          </td></tr>\n",
       "\t<tr><td>Furies, The                </td><td>2                          </td></tr>\n",
       "\t<tr><td>Smart Money                </td><td>3                          </td></tr>\n",
       "\t<tr><td>Wishful Thinking           </td><td>4                          </td></tr>\n",
       "\t<tr><td>You Are God (Jestes Bogiem)</td><td>5                          </td></tr>\n",
       "\t<tr><td>Through the Forest         </td><td>6                          </td></tr>\n",
       "</tbody>\n",
       "</table>\n"
      ],
      "text/latex": [
       "\\begin{tabular}{r|ll}\n",
       " movie\\_title & movie\\_id\\\\\n",
       "\\hline\n",
       "\t Thirteenth Floor, The       & 1                          \\\\\n",
       "\t Furies, The                 & 2                          \\\\\n",
       "\t Smart Money                 & 3                          \\\\\n",
       "\t Wishful Thinking            & 4                          \\\\\n",
       "\t You Are God (Jestes Bogiem) & 5                          \\\\\n",
       "\t Through the Forest          & 6                          \\\\\n",
       "\\end{tabular}\n"
      ],
      "text/markdown": [
       "\n",
       "movie_title | movie_id | \n",
       "|---|---|---|---|---|---|\n",
       "| Thirteenth Floor, The       | 1                           | \n",
       "| Furies, The                 | 2                           | \n",
       "| Smart Money                 | 3                           | \n",
       "| Wishful Thinking            | 4                           | \n",
       "| You Are God (Jestes Bogiem) | 5                           | \n",
       "| Through the Forest          | 6                           | \n",
       "\n",
       "\n"
      ],
      "text/plain": [
       "  movie_title                 movie_id\n",
       "1 Thirteenth Floor, The       1       \n",
       "2 Furies, The                 2       \n",
       "3 Smart Money                 3       \n",
       "4 Wishful Thinking            4       \n",
       "5 You Are God (Jestes Bogiem) 5       \n",
       "6 Through the Forest          6       "
      ]
     },
     "metadata": {},
     "output_type": "display_data"
    }
   ],
   "source": [
    "head(temp_movie_df)"
   ]
  },
  {
   "cell_type": "markdown",
   "metadata": {},
   "source": [
    "Before adding the ``movie_id`` primary key to the main dataframe, ``df``, we can push the movie data to the database:"
   ]
  },
  {
   "cell_type": "code",
   "execution_count": 16,
   "metadata": {},
   "outputs": [
    {
     "data": {
      "text/html": [
       "TRUE"
      ],
      "text/latex": [
       "TRUE"
      ],
      "text/markdown": [
       "TRUE"
      ],
      "text/plain": [
       "[1] TRUE"
      ]
     },
     "metadata": {},
     "output_type": "display_data"
    }
   ],
   "source": [
    "dbWriteTable(con, name=\"movies\", value=temp_movie_df, row.names=FALSE, append=TRUE)"
   ]
  },
  {
   "cell_type": "markdown",
   "metadata": {},
   "source": [
    "Now we can add a new column to the main dataframe, ``df``, for the primary key of movies, ``movie_id``. This involves two steps. First, using ``temp_movie_df`` to create a list mapping ``movie_id`` with each movie in ``df`` and then inserting this list to ``df`` as a new column."
   ]
  },
  {
   "cell_type": "code",
   "execution_count": 17,
   "metadata": {},
   "outputs": [],
   "source": [
    "# Map movie_id\n",
    "movie_id_list <- sapply(df$movie_title, function(x) temp_movie_df$movie_id[temp_movie_df$movie_title == x])\n",
    "                        \n",
    "# Add movie_id to the main dataframe\n",
    "df$movie_id <- movie_id_list"
   ]
  },
  {
   "cell_type": "markdown",
   "metadata": {},
   "source": [
    "Let's check that a few repeating movies have the same primary key:"
   ]
  },
  {
   "cell_type": "code",
   "execution_count": 18,
   "metadata": {},
   "outputs": [
    {
     "data": {
      "text/html": [
       "<table>\n",
       "<thead><tr><th></th><th scope=col>movie_id</th><th scope=col>movie_title</th><th scope=col>movie_price</th></tr></thead>\n",
       "<tbody>\n",
       "\t<tr><th scope=row>156</th><td>156       </td><td>Whirlygirl</td><td> 2.92     </td></tr>\n",
       "\t<tr><th scope=row>504</th><td>500       </td><td>Afterwards</td><td>13.13     </td></tr>\n",
       "\t<tr><th scope=row>525</th><td>500       </td><td>Afterwards</td><td>14.88     </td></tr>\n",
       "\t<tr><th scope=row>695</th><td>156       </td><td>Whirlygirl</td><td> 2.24     </td></tr>\n",
       "\t<tr><th scope=row>816</th><td>156       </td><td>Whirlygirl</td><td>17.97     </td></tr>\n",
       "</tbody>\n",
       "</table>\n"
      ],
      "text/latex": [
       "\\begin{tabular}{r|lll}\n",
       "  & movie\\_id & movie\\_title & movie\\_price\\\\\n",
       "\\hline\n",
       "\t156 & 156        & Whirlygirl &  2.92     \\\\\n",
       "\t504 & 500        & Afterwards & 13.13     \\\\\n",
       "\t525 & 500        & Afterwards & 14.88     \\\\\n",
       "\t695 & 156        & Whirlygirl &  2.24     \\\\\n",
       "\t816 & 156        & Whirlygirl & 17.97     \\\\\n",
       "\\end{tabular}\n"
      ],
      "text/markdown": [
       "\n",
       "| <!--/--> | movie_id | movie_title | movie_price | \n",
       "|---|---|---|---|---|\n",
       "| 156 | 156        | Whirlygirl |  2.92      | \n",
       "| 504 | 500        | Afterwards | 13.13      | \n",
       "| 525 | 500        | Afterwards | 14.88      | \n",
       "| 695 | 156        | Whirlygirl |  2.24      | \n",
       "| 816 | 156        | Whirlygirl | 17.97      | \n",
       "\n",
       "\n"
      ],
      "text/plain": [
       "    movie_id movie_title movie_price\n",
       "156 156      Whirlygirl   2.92      \n",
       "504 500      Afterwards  13.13      \n",
       "525 500      Afterwards  14.88      \n",
       "695 156      Whirlygirl   2.24      \n",
       "816 156      Whirlygirl  17.97      "
      ]
     },
     "metadata": {},
     "output_type": "display_data"
    }
   ],
   "source": [
    "df[c('movie_id', 'movie_title', 'movie_price')][df$movie_title %in% c('Afterwards','Whirlygirl'),]"
   ]
  },
  {
   "cell_type": "markdown",
   "metadata": {},
   "source": [
    "And a quick look into the expanded dataframe:"
   ]
  },
  {
   "cell_type": "code",
   "execution_count": 19,
   "metadata": {},
   "outputs": [
    {
     "data": {
      "text/html": [
       "<table>\n",
       "<thead><tr><th scope=col>first_name</th><th scope=col>last_name</th><th scope=col>email</th><th scope=col>cell_phone</th><th scope=col>movie_title</th><th scope=col>movie_genres</th><th scope=col>purchase_datetime</th><th scope=col>movie_price</th><th scope=col>customer_id</th><th scope=col>movie_id</th></tr></thead>\n",
       "<tbody>\n",
       "\t<tr><td>Jackqueline                </td><td>Dulanty                    </td><td>jdulanty0@goo.ne.jp        </td><td>+960-657-528-2938          </td><td>Thirteenth Floor, The      </td><td>Drama|Sci-Fi|Thriller      </td><td>2018-08-27 17:29:17        </td><td> 4.04                      </td><td>1                          </td><td>1                          </td></tr>\n",
       "\t<tr><td>Merrili                    </td><td>Fost                       </td><td>mfost1@nps.gov             </td><td>+351-633-272-4106          </td><td>Furies, The                </td><td>Drama|Romance|Western      </td><td>2018-08-20 08:42:38        </td><td> 6.96                      </td><td>2                          </td><td>2                          </td></tr>\n",
       "\t<tr><td>Shae                       </td><td>Haberfield                 </td><td>shaberfield2@ihg.com       </td><td>+62-629-240-2964           </td><td>Smart Money                </td><td>Crime|Drama                </td><td>2018-07-24 00:15:35        </td><td>13.47                      </td><td>3                          </td><td>3                          </td></tr>\n",
       "\t<tr><td>Kennie                     </td><td>Church                     </td><td>kchurch3@nature.com        </td><td>+381-486-928-8686          </td><td>Wishful Thinking           </td><td>Comedy                     </td><td>2018-09-22 11:01:17        </td><td>13.40                      </td><td>4                          </td><td>4                          </td></tr>\n",
       "\t<tr><td>Shadow                     </td><td>Puckett                    </td><td>spuckett4@shareasale.com   </td><td>+27-611-497-3264           </td><td>You Are God (Jestes Bogiem)</td><td>Drama                      </td><td>2018-01-15 08:41:31        </td><td>10.38                      </td><td>5                          </td><td>5                          </td></tr>\n",
       "\t<tr><td>Rici                       </td><td>Burnett                    </td><td>rburnett5@state.tx.us      </td><td>                           </td><td>Through the Forest         </td><td>Drama                      </td><td>2018-04-01 05:16:02        </td><td> 5.36                      </td><td>6                          </td><td>6                          </td></tr>\n",
       "</tbody>\n",
       "</table>\n"
      ],
      "text/latex": [
       "\\begin{tabular}{r|llllllllll}\n",
       " first\\_name & last\\_name & email & cell\\_phone & movie\\_title & movie\\_genres & purchase\\_datetime & movie\\_price & customer\\_id & movie\\_id\\\\\n",
       "\\hline\n",
       "\t Jackqueline                               & Dulanty                                   & jdulanty0@goo.ne.jp                       & +960-657-528-2938                         & Thirteenth Floor, The                     & Drama\\textbar{}Sci-Fi\\textbar{}Thriller & 2018-08-27 17:29:17                       &  4.04                                     & 1                                         & 1                                        \\\\\n",
       "\t Merrili                                   & Fost                                      & mfost1@nps.gov                            & +351-633-272-4106                         & Furies, The                               & Drama\\textbar{}Romance\\textbar{}Western & 2018-08-20 08:42:38                       &  6.96                                     & 2                                         & 2                                        \\\\\n",
       "\t Shae                            & Haberfield                      & shaberfield2@ihg.com            & +62-629-240-2964                & Smart Money                     & Crime\\textbar{}Drama           & 2018-07-24 00:15:35             & 13.47                           & 3                               & 3                              \\\\\n",
       "\t Kennie                      & Church                      & kchurch3@nature.com         & +381-486-928-8686           & Wishful Thinking            & Comedy                      & 2018-09-22 11:01:17         & 13.40                       & 4                           & 4                          \\\\\n",
       "\t Shadow                      & Puckett                     & spuckett4@shareasale.com    & +27-611-497-3264            & You Are God (Jestes Bogiem) & Drama                       & 2018-01-15 08:41:31         & 10.38                       & 5                           & 5                          \\\\\n",
       "\t Rici                        & Burnett                     & rburnett5@state.tx.us       &                             & Through the Forest          & Drama                       & 2018-04-01 05:16:02         &  5.36                       & 6                           & 6                          \\\\\n",
       "\\end{tabular}\n"
      ],
      "text/markdown": [
       "\n",
       "first_name | last_name | email | cell_phone | movie_title | movie_genres | purchase_datetime | movie_price | customer_id | movie_id | \n",
       "|---|---|---|---|---|---|\n",
       "| Jackqueline                 | Dulanty                     | jdulanty0@goo.ne.jp         | +960-657-528-2938           | Thirteenth Floor, The       | Drama|Sci-Fi|Thriller       | 2018-08-27 17:29:17         |  4.04                       | 1                           | 1                           | \n",
       "| Merrili                     | Fost                        | mfost1@nps.gov              | +351-633-272-4106           | Furies, The                 | Drama|Romance|Western       | 2018-08-20 08:42:38         |  6.96                       | 2                           | 2                           | \n",
       "| Shae                        | Haberfield                  | shaberfield2@ihg.com        | +62-629-240-2964            | Smart Money                 | Crime|Drama                 | 2018-07-24 00:15:35         | 13.47                       | 3                           | 3                           | \n",
       "| Kennie                      | Church                      | kchurch3@nature.com         | +381-486-928-8686           | Wishful Thinking            | Comedy                      | 2018-09-22 11:01:17         | 13.40                       | 4                           | 4                           | \n",
       "| Shadow                      | Puckett                     | spuckett4@shareasale.com    | +27-611-497-3264            | You Are God (Jestes Bogiem) | Drama                       | 2018-01-15 08:41:31         | 10.38                       | 5                           | 5                           | \n",
       "| Rici                        | Burnett                     | rburnett5@state.tx.us       |                             | Through the Forest          | Drama                       | 2018-04-01 05:16:02         |  5.36                       | 6                           | 6                           | \n",
       "\n",
       "\n"
      ],
      "text/plain": [
       "  first_name  last_name  email                    cell_phone       \n",
       "1 Jackqueline Dulanty    jdulanty0@goo.ne.jp      +960-657-528-2938\n",
       "2 Merrili     Fost       mfost1@nps.gov           +351-633-272-4106\n",
       "3 Shae        Haberfield shaberfield2@ihg.com     +62-629-240-2964 \n",
       "4 Kennie      Church     kchurch3@nature.com      +381-486-928-8686\n",
       "5 Shadow      Puckett    spuckett4@shareasale.com +27-611-497-3264 \n",
       "6 Rici        Burnett    rburnett5@state.tx.us                     \n",
       "  movie_title                 movie_genres          purchase_datetime  \n",
       "1 Thirteenth Floor, The       Drama|Sci-Fi|Thriller 2018-08-27 17:29:17\n",
       "2 Furies, The                 Drama|Romance|Western 2018-08-20 08:42:38\n",
       "3 Smart Money                 Crime|Drama           2018-07-24 00:15:35\n",
       "4 Wishful Thinking            Comedy                2018-09-22 11:01:17\n",
       "5 You Are God (Jestes Bogiem) Drama                 2018-01-15 08:41:31\n",
       "6 Through the Forest          Drama                 2018-04-01 05:16:02\n",
       "  movie_price customer_id movie_id\n",
       "1  4.04       1           1       \n",
       "2  6.96       2           2       \n",
       "3 13.47       3           3       \n",
       "4 13.40       4           4       \n",
       "5 10.38       5           5       \n",
       "6  5.36       6           6       "
      ]
     },
     "metadata": {},
     "output_type": "display_data"
    }
   ],
   "source": [
    "head(df)"
   ]
  },
  {
   "cell_type": "markdown",
   "metadata": {},
   "source": [
    "Next, we will work with movie genres. The main task is to split multiple genres in one cell. This should be done **row-wise**, meaning, a row with multiple genres will be expanded in multiple rows, each row holding the same data for all columns except for the genre column which will hold each genre. This operation is crucial since it will create the relationship between movies and genres.\n",
    "\n",
    "This task requires the following steps:"
   ]
  },
  {
   "cell_type": "code",
   "execution_count": 20,
   "metadata": {},
   "outputs": [],
   "source": [
    "# Split genres\n",
    "s_genres <- strsplit(as.character(df$movie_genres), split = \"|\", fixed=TRUE)\n",
    "\n",
    "# Create a new expanded dataframe\n",
    "df <- data.frame(customer_id = rep(df$customer_id, sapply(s_genres, length)),\n",
    "                 first_name = rep(df$first_name, sapply(s_genres, length)),\n",
    "                 last_name = rep(df$last_name, sapply(s_genres, length)),\n",
    "                 email = rep(df$email, sapply(s_genres, length)),\n",
    "                 cell_phone = rep(df$cell_phone, sapply(s_genres, length)),\n",
    "                 movie_id = rep(df$movie_id, sapply(s_genres, length)),\n",
    "                 movie_title = rep(df$movie_title, sapply(s_genres, length)),\n",
    "                 purchase_datetime = rep(df$purchase_datetime, sapply(s_genres, length)),\n",
    "                 movie_price = rep(df$movie_price, sapply(s_genres, length)),\n",
    "                 movie_genres = unlist(s_genres))"
   ]
  },
  {
   "cell_type": "markdown",
   "metadata": {},
   "source": [
    "The main dataframe, ``df`` now looks like this:"
   ]
  },
  {
   "cell_type": "code",
   "execution_count": 21,
   "metadata": {},
   "outputs": [
    {
     "data": {
      "text/html": [
       "<table>\n",
       "<thead><tr><th scope=col>customer_id</th><th scope=col>first_name</th><th scope=col>last_name</th><th scope=col>email</th><th scope=col>cell_phone</th><th scope=col>movie_id</th><th scope=col>movie_title</th><th scope=col>purchase_datetime</th><th scope=col>movie_price</th><th scope=col>movie_genres</th></tr></thead>\n",
       "<tbody>\n",
       "\t<tr><td>1                          </td><td>Jackqueline                </td><td>Dulanty                    </td><td>jdulanty0@goo.ne.jp        </td><td>+960-657-528-2938          </td><td>1                          </td><td>Thirteenth Floor, The      </td><td>2018-08-27 17:29:17        </td><td> 4.04                      </td><td>Drama                      </td></tr>\n",
       "\t<tr><td>1                          </td><td>Jackqueline                </td><td>Dulanty                    </td><td>jdulanty0@goo.ne.jp        </td><td>+960-657-528-2938          </td><td>1                          </td><td>Thirteenth Floor, The      </td><td>2018-08-27 17:29:17        </td><td> 4.04                      </td><td>Sci-Fi                     </td></tr>\n",
       "\t<tr><td>1                          </td><td>Jackqueline                </td><td>Dulanty                    </td><td>jdulanty0@goo.ne.jp        </td><td>+960-657-528-2938          </td><td>1                          </td><td>Thirteenth Floor, The      </td><td>2018-08-27 17:29:17        </td><td> 4.04                      </td><td>Thriller                   </td></tr>\n",
       "\t<tr><td>2                          </td><td>Merrili                    </td><td>Fost                       </td><td>mfost1@nps.gov             </td><td>+351-633-272-4106          </td><td>2                          </td><td>Furies, The                </td><td>2018-08-20 08:42:38        </td><td> 6.96                      </td><td>Drama                      </td></tr>\n",
       "\t<tr><td>2                          </td><td>Merrili                    </td><td>Fost                       </td><td>mfost1@nps.gov             </td><td>+351-633-272-4106          </td><td>2                          </td><td>Furies, The                </td><td>2018-08-20 08:42:38        </td><td> 6.96                      </td><td>Romance                    </td></tr>\n",
       "\t<tr><td>2                          </td><td>Merrili                    </td><td>Fost                       </td><td>mfost1@nps.gov             </td><td>+351-633-272-4106          </td><td>2                          </td><td>Furies, The                </td><td>2018-08-20 08:42:38        </td><td> 6.96                      </td><td>Western                    </td></tr>\n",
       "\t<tr><td>3                          </td><td>Shae                       </td><td>Haberfield                 </td><td>shaberfield2@ihg.com       </td><td>+62-629-240-2964           </td><td>3                          </td><td>Smart Money                </td><td>2018-07-24 00:15:35        </td><td>13.47                      </td><td>Crime                      </td></tr>\n",
       "\t<tr><td>3                          </td><td>Shae                       </td><td>Haberfield                 </td><td>shaberfield2@ihg.com       </td><td>+62-629-240-2964           </td><td>3                          </td><td>Smart Money                </td><td>2018-07-24 00:15:35        </td><td>13.47                      </td><td>Drama                      </td></tr>\n",
       "\t<tr><td>4                          </td><td>Kennie                     </td><td>Church                     </td><td>kchurch3@nature.com        </td><td>+381-486-928-8686          </td><td>4                          </td><td>Wishful Thinking           </td><td>2018-09-22 11:01:17        </td><td>13.40                      </td><td>Comedy                     </td></tr>\n",
       "\t<tr><td>5                          </td><td>Shadow                     </td><td>Puckett                    </td><td>spuckett4@shareasale.com   </td><td>+27-611-497-3264           </td><td>5                          </td><td>You Are God (Jestes Bogiem)</td><td>2018-01-15 08:41:31        </td><td>10.38                      </td><td>Drama                      </td></tr>\n",
       "</tbody>\n",
       "</table>\n"
      ],
      "text/latex": [
       "\\begin{tabular}{r|llllllllll}\n",
       " customer\\_id & first\\_name & last\\_name & email & cell\\_phone & movie\\_id & movie\\_title & purchase\\_datetime & movie\\_price & movie\\_genres\\\\\n",
       "\\hline\n",
       "\t 1                           & Jackqueline                 & Dulanty                     & jdulanty0@goo.ne.jp         & +960-657-528-2938           & 1                           & Thirteenth Floor, The       & 2018-08-27 17:29:17         &  4.04                       & Drama                      \\\\\n",
       "\t 1                           & Jackqueline                 & Dulanty                     & jdulanty0@goo.ne.jp         & +960-657-528-2938           & 1                           & Thirteenth Floor, The       & 2018-08-27 17:29:17         &  4.04                       & Sci-Fi                     \\\\\n",
       "\t 1                           & Jackqueline                 & Dulanty                     & jdulanty0@goo.ne.jp         & +960-657-528-2938           & 1                           & Thirteenth Floor, The       & 2018-08-27 17:29:17         &  4.04                       & Thriller                   \\\\\n",
       "\t 2                           & Merrili                     & Fost                        & mfost1@nps.gov              & +351-633-272-4106           & 2                           & Furies, The                 & 2018-08-20 08:42:38         &  6.96                       & Drama                      \\\\\n",
       "\t 2                           & Merrili                     & Fost                        & mfost1@nps.gov              & +351-633-272-4106           & 2                           & Furies, The                 & 2018-08-20 08:42:38         &  6.96                       & Romance                    \\\\\n",
       "\t 2                           & Merrili                     & Fost                        & mfost1@nps.gov              & +351-633-272-4106           & 2                           & Furies, The                 & 2018-08-20 08:42:38         &  6.96                       & Western                    \\\\\n",
       "\t 3                           & Shae                        & Haberfield                  & shaberfield2@ihg.com        & +62-629-240-2964            & 3                           & Smart Money                 & 2018-07-24 00:15:35         & 13.47                       & Crime                      \\\\\n",
       "\t 3                           & Shae                        & Haberfield                  & shaberfield2@ihg.com        & +62-629-240-2964            & 3                           & Smart Money                 & 2018-07-24 00:15:35         & 13.47                       & Drama                      \\\\\n",
       "\t 4                           & Kennie                      & Church                      & kchurch3@nature.com         & +381-486-928-8686           & 4                           & Wishful Thinking            & 2018-09-22 11:01:17         & 13.40                       & Comedy                     \\\\\n",
       "\t 5                           & Shadow                      & Puckett                     & spuckett4@shareasale.com    & +27-611-497-3264            & 5                           & You Are God (Jestes Bogiem) & 2018-01-15 08:41:31         & 10.38                       & Drama                      \\\\\n",
       "\\end{tabular}\n"
      ],
      "text/markdown": [
       "\n",
       "customer_id | first_name | last_name | email | cell_phone | movie_id | movie_title | purchase_datetime | movie_price | movie_genres | \n",
       "|---|---|---|---|---|---|---|---|---|---|\n",
       "| 1                           | Jackqueline                 | Dulanty                     | jdulanty0@goo.ne.jp         | +960-657-528-2938           | 1                           | Thirteenth Floor, The       | 2018-08-27 17:29:17         |  4.04                       | Drama                       | \n",
       "| 1                           | Jackqueline                 | Dulanty                     | jdulanty0@goo.ne.jp         | +960-657-528-2938           | 1                           | Thirteenth Floor, The       | 2018-08-27 17:29:17         |  4.04                       | Sci-Fi                      | \n",
       "| 1                           | Jackqueline                 | Dulanty                     | jdulanty0@goo.ne.jp         | +960-657-528-2938           | 1                           | Thirteenth Floor, The       | 2018-08-27 17:29:17         |  4.04                       | Thriller                    | \n",
       "| 2                           | Merrili                     | Fost                        | mfost1@nps.gov              | +351-633-272-4106           | 2                           | Furies, The                 | 2018-08-20 08:42:38         |  6.96                       | Drama                       | \n",
       "| 2                           | Merrili                     | Fost                        | mfost1@nps.gov              | +351-633-272-4106           | 2                           | Furies, The                 | 2018-08-20 08:42:38         |  6.96                       | Romance                     | \n",
       "| 2                           | Merrili                     | Fost                        | mfost1@nps.gov              | +351-633-272-4106           | 2                           | Furies, The                 | 2018-08-20 08:42:38         |  6.96                       | Western                     | \n",
       "| 3                           | Shae                        | Haberfield                  | shaberfield2@ihg.com        | +62-629-240-2964            | 3                           | Smart Money                 | 2018-07-24 00:15:35         | 13.47                       | Crime                       | \n",
       "| 3                           | Shae                        | Haberfield                  | shaberfield2@ihg.com        | +62-629-240-2964            | 3                           | Smart Money                 | 2018-07-24 00:15:35         | 13.47                       | Drama                       | \n",
       "| 4                           | Kennie                      | Church                      | kchurch3@nature.com         | +381-486-928-8686           | 4                           | Wishful Thinking            | 2018-09-22 11:01:17         | 13.40                       | Comedy                      | \n",
       "| 5                           | Shadow                      | Puckett                     | spuckett4@shareasale.com    | +27-611-497-3264            | 5                           | You Are God (Jestes Bogiem) | 2018-01-15 08:41:31         | 10.38                       | Drama                       | \n",
       "\n",
       "\n"
      ],
      "text/plain": [
       "   customer_id first_name  last_name  email                   \n",
       "1  1           Jackqueline Dulanty    jdulanty0@goo.ne.jp     \n",
       "2  1           Jackqueline Dulanty    jdulanty0@goo.ne.jp     \n",
       "3  1           Jackqueline Dulanty    jdulanty0@goo.ne.jp     \n",
       "4  2           Merrili     Fost       mfost1@nps.gov          \n",
       "5  2           Merrili     Fost       mfost1@nps.gov          \n",
       "6  2           Merrili     Fost       mfost1@nps.gov          \n",
       "7  3           Shae        Haberfield shaberfield2@ihg.com    \n",
       "8  3           Shae        Haberfield shaberfield2@ihg.com    \n",
       "9  4           Kennie      Church     kchurch3@nature.com     \n",
       "10 5           Shadow      Puckett    spuckett4@shareasale.com\n",
       "   cell_phone        movie_id movie_title                 purchase_datetime  \n",
       "1  +960-657-528-2938 1        Thirteenth Floor, The       2018-08-27 17:29:17\n",
       "2  +960-657-528-2938 1        Thirteenth Floor, The       2018-08-27 17:29:17\n",
       "3  +960-657-528-2938 1        Thirteenth Floor, The       2018-08-27 17:29:17\n",
       "4  +351-633-272-4106 2        Furies, The                 2018-08-20 08:42:38\n",
       "5  +351-633-272-4106 2        Furies, The                 2018-08-20 08:42:38\n",
       "6  +351-633-272-4106 2        Furies, The                 2018-08-20 08:42:38\n",
       "7  +62-629-240-2964  3        Smart Money                 2018-07-24 00:15:35\n",
       "8  +62-629-240-2964  3        Smart Money                 2018-07-24 00:15:35\n",
       "9  +381-486-928-8686 4        Wishful Thinking            2018-09-22 11:01:17\n",
       "10 +27-611-497-3264  5        You Are God (Jestes Bogiem) 2018-01-15 08:41:31\n",
       "   movie_price movie_genres\n",
       "1   4.04       Drama       \n",
       "2   4.04       Sci-Fi      \n",
       "3   4.04       Thriller    \n",
       "4   6.96       Drama       \n",
       "5   6.96       Romance     \n",
       "6   6.96       Western     \n",
       "7  13.47       Crime       \n",
       "8  13.47       Drama       \n",
       "9  13.40       Comedy      \n",
       "10 10.38       Drama       "
      ]
     },
     "metadata": {},
     "output_type": "display_data"
    }
   ],
   "source": [
    "head(df, 10)"
   ]
  },
  {
   "cell_type": "markdown",
   "metadata": {},
   "source": [
    "Clearly, we now have genres that are repeating. In order to assign primary keys to the genres, we will follow the same process as with the movie titles."
   ]
  },
  {
   "cell_type": "code",
   "execution_count": 22,
   "metadata": {},
   "outputs": [],
   "source": [
    "# Create temporary dataframe with unique movie genres\n",
    "temp_genre_df <- data.frame(genre = unique(df$movie_genres))\n",
    "\n",
    "# Add incrementing integers for genre_id\n",
    "temp_genre_df$genre_id <- 1:nrow(temp_genre_df) "
   ]
  },
  {
   "cell_type": "markdown",
   "metadata": {},
   "source": [
    "This temporary genre dataframe is:"
   ]
  },
  {
   "cell_type": "code",
   "execution_count": 23,
   "metadata": {},
   "outputs": [
    {
     "data": {
      "text/html": [
       "<table>\n",
       "<thead><tr><th scope=col>genre</th><th scope=col>genre_id</th></tr></thead>\n",
       "<tbody>\n",
       "\t<tr><td>Drama             </td><td> 1                </td></tr>\n",
       "\t<tr><td>Sci-Fi            </td><td> 2                </td></tr>\n",
       "\t<tr><td>Thriller          </td><td> 3                </td></tr>\n",
       "\t<tr><td>Romance           </td><td> 4                </td></tr>\n",
       "\t<tr><td>Western           </td><td> 5                </td></tr>\n",
       "\t<tr><td>Crime             </td><td> 6                </td></tr>\n",
       "\t<tr><td>Comedy            </td><td> 7                </td></tr>\n",
       "\t<tr><td>Action            </td><td> 8                </td></tr>\n",
       "\t<tr><td>Adventure         </td><td> 9                </td></tr>\n",
       "\t<tr><td>Animation         </td><td>10                </td></tr>\n",
       "\t<tr><td>(no genres listed)</td><td>11                </td></tr>\n",
       "\t<tr><td>Horror            </td><td>12                </td></tr>\n",
       "\t<tr><td>Fantasy           </td><td>13                </td></tr>\n",
       "\t<tr><td>War               </td><td>14                </td></tr>\n",
       "\t<tr><td>Film-Noir         </td><td>15                </td></tr>\n",
       "\t<tr><td>Mystery           </td><td>16                </td></tr>\n",
       "\t<tr><td>Musical           </td><td>17                </td></tr>\n",
       "\t<tr><td>Children          </td><td>18                </td></tr>\n",
       "\t<tr><td>Documentary       </td><td>19                </td></tr>\n",
       "\t<tr><td>IMAX              </td><td>20                </td></tr>\n",
       "</tbody>\n",
       "</table>\n"
      ],
      "text/latex": [
       "\\begin{tabular}{r|ll}\n",
       " genre & genre\\_id\\\\\n",
       "\\hline\n",
       "\t Drama              &  1                \\\\\n",
       "\t Sci-Fi             &  2                \\\\\n",
       "\t Thriller           &  3                \\\\\n",
       "\t Romance            &  4                \\\\\n",
       "\t Western            &  5                \\\\\n",
       "\t Crime              &  6                \\\\\n",
       "\t Comedy             &  7                \\\\\n",
       "\t Action             &  8                \\\\\n",
       "\t Adventure          &  9                \\\\\n",
       "\t Animation          & 10                \\\\\n",
       "\t (no genres listed) & 11                \\\\\n",
       "\t Horror             & 12                \\\\\n",
       "\t Fantasy            & 13                \\\\\n",
       "\t War                & 14                \\\\\n",
       "\t Film-Noir          & 15                \\\\\n",
       "\t Mystery            & 16                \\\\\n",
       "\t Musical            & 17                \\\\\n",
       "\t Children           & 18                \\\\\n",
       "\t Documentary        & 19                \\\\\n",
       "\t IMAX               & 20                \\\\\n",
       "\\end{tabular}\n"
      ],
      "text/markdown": [
       "\n",
       "genre | genre_id | \n",
       "|---|---|---|---|---|---|---|---|---|---|---|---|---|---|---|---|---|---|---|---|\n",
       "| Drama              |  1                 | \n",
       "| Sci-Fi             |  2                 | \n",
       "| Thriller           |  3                 | \n",
       "| Romance            |  4                 | \n",
       "| Western            |  5                 | \n",
       "| Crime              |  6                 | \n",
       "| Comedy             |  7                 | \n",
       "| Action             |  8                 | \n",
       "| Adventure          |  9                 | \n",
       "| Animation          | 10                 | \n",
       "| (no genres listed) | 11                 | \n",
       "| Horror             | 12                 | \n",
       "| Fantasy            | 13                 | \n",
       "| War                | 14                 | \n",
       "| Film-Noir          | 15                 | \n",
       "| Mystery            | 16                 | \n",
       "| Musical            | 17                 | \n",
       "| Children           | 18                 | \n",
       "| Documentary        | 19                 | \n",
       "| IMAX               | 20                 | \n",
       "\n",
       "\n"
      ],
      "text/plain": [
       "   genre              genre_id\n",
       "1  Drama               1      \n",
       "2  Sci-Fi              2      \n",
       "3  Thriller            3      \n",
       "4  Romance             4      \n",
       "5  Western             5      \n",
       "6  Crime               6      \n",
       "7  Comedy              7      \n",
       "8  Action              8      \n",
       "9  Adventure           9      \n",
       "10 Animation          10      \n",
       "11 (no genres listed) 11      \n",
       "12 Horror             12      \n",
       "13 Fantasy            13      \n",
       "14 War                14      \n",
       "15 Film-Noir          15      \n",
       "16 Mystery            16      \n",
       "17 Musical            17      \n",
       "18 Children           18      \n",
       "19 Documentary        19      \n",
       "20 IMAX               20      "
      ]
     },
     "metadata": {},
     "output_type": "display_data"
    }
   ],
   "source": [
    "temp_genre_df"
   ]
  },
  {
   "cell_type": "markdown",
   "metadata": {},
   "source": [
    "Before adding the ``genre_id`` primary key to the main dataframe, ``df``, we can push the genre data to the database:"
   ]
  },
  {
   "cell_type": "code",
   "execution_count": 24,
   "metadata": {},
   "outputs": [
    {
     "data": {
      "text/html": [
       "TRUE"
      ],
      "text/latex": [
       "TRUE"
      ],
      "text/markdown": [
       "TRUE"
      ],
      "text/plain": [
       "[1] TRUE"
      ]
     },
     "metadata": {},
     "output_type": "display_data"
    }
   ],
   "source": [
    "dbWriteTable(con, name=\"genres\", value=temp_genre_df, row.names=FALSE, append=TRUE)"
   ]
  },
  {
   "cell_type": "markdown",
   "metadata": {},
   "source": [
    "Following the same process as with movie titles, we can now add a new column to the main dataframe, ``df``, for the primary key of genres, ``genre_id``. First, using ``temp_genre_df`` to create a list mapping ``genre_id`` with each genre in ``df`` and then inserting this list to ``df`` as a new column."
   ]
  },
  {
   "cell_type": "code",
   "execution_count": 25,
   "metadata": {},
   "outputs": [],
   "source": [
    "# Map genre_id\n",
    "genre_id_list <- sapply(df$movie_genres, function(x) temp_genre_df$genre_id[temp_genre_df$genre == x])\n",
    "                        \n",
    "# Add genre_id to the main dataframe\n",
    "df$genre_id <- genre_id_list"
   ]
  },
  {
   "cell_type": "markdown",
   "metadata": {},
   "source": [
    "And ``df`` is now:"
   ]
  },
  {
   "cell_type": "code",
   "execution_count": 26,
   "metadata": {},
   "outputs": [
    {
     "data": {
      "text/html": [
       "<table>\n",
       "<thead><tr><th scope=col>customer_id</th><th scope=col>first_name</th><th scope=col>last_name</th><th scope=col>email</th><th scope=col>cell_phone</th><th scope=col>movie_id</th><th scope=col>movie_title</th><th scope=col>purchase_datetime</th><th scope=col>movie_price</th><th scope=col>movie_genres</th><th scope=col>genre_id</th></tr></thead>\n",
       "<tbody>\n",
       "\t<tr><td>1                          </td><td>Jackqueline                </td><td>Dulanty                    </td><td>jdulanty0@goo.ne.jp        </td><td>+960-657-528-2938          </td><td>1                          </td><td>Thirteenth Floor, The      </td><td>2018-08-27 17:29:17        </td><td> 4.04                      </td><td>Drama                      </td><td>1                          </td></tr>\n",
       "\t<tr><td>1                          </td><td>Jackqueline                </td><td>Dulanty                    </td><td>jdulanty0@goo.ne.jp        </td><td>+960-657-528-2938          </td><td>1                          </td><td>Thirteenth Floor, The      </td><td>2018-08-27 17:29:17        </td><td> 4.04                      </td><td>Sci-Fi                     </td><td>2                          </td></tr>\n",
       "\t<tr><td>1                          </td><td>Jackqueline                </td><td>Dulanty                    </td><td>jdulanty0@goo.ne.jp        </td><td>+960-657-528-2938          </td><td>1                          </td><td>Thirteenth Floor, The      </td><td>2018-08-27 17:29:17        </td><td> 4.04                      </td><td>Thriller                   </td><td>3                          </td></tr>\n",
       "\t<tr><td>2                          </td><td>Merrili                    </td><td>Fost                       </td><td>mfost1@nps.gov             </td><td>+351-633-272-4106          </td><td>2                          </td><td>Furies, The                </td><td>2018-08-20 08:42:38        </td><td> 6.96                      </td><td>Drama                      </td><td>1                          </td></tr>\n",
       "\t<tr><td>2                          </td><td>Merrili                    </td><td>Fost                       </td><td>mfost1@nps.gov             </td><td>+351-633-272-4106          </td><td>2                          </td><td>Furies, The                </td><td>2018-08-20 08:42:38        </td><td> 6.96                      </td><td>Romance                    </td><td>4                          </td></tr>\n",
       "\t<tr><td>2                          </td><td>Merrili                    </td><td>Fost                       </td><td>mfost1@nps.gov             </td><td>+351-633-272-4106          </td><td>2                          </td><td>Furies, The                </td><td>2018-08-20 08:42:38        </td><td> 6.96                      </td><td>Western                    </td><td>5                          </td></tr>\n",
       "\t<tr><td>3                          </td><td>Shae                       </td><td>Haberfield                 </td><td>shaberfield2@ihg.com       </td><td>+62-629-240-2964           </td><td>3                          </td><td>Smart Money                </td><td>2018-07-24 00:15:35        </td><td>13.47                      </td><td>Crime                      </td><td>6                          </td></tr>\n",
       "\t<tr><td>3                          </td><td>Shae                       </td><td>Haberfield                 </td><td>shaberfield2@ihg.com       </td><td>+62-629-240-2964           </td><td>3                          </td><td>Smart Money                </td><td>2018-07-24 00:15:35        </td><td>13.47                      </td><td>Drama                      </td><td>1                          </td></tr>\n",
       "\t<tr><td>4                          </td><td>Kennie                     </td><td>Church                     </td><td>kchurch3@nature.com        </td><td>+381-486-928-8686          </td><td>4                          </td><td>Wishful Thinking           </td><td>2018-09-22 11:01:17        </td><td>13.40                      </td><td>Comedy                     </td><td>7                          </td></tr>\n",
       "\t<tr><td>5                          </td><td>Shadow                     </td><td>Puckett                    </td><td>spuckett4@shareasale.com   </td><td>+27-611-497-3264           </td><td>5                          </td><td>You Are God (Jestes Bogiem)</td><td>2018-01-15 08:41:31        </td><td>10.38                      </td><td>Drama                      </td><td>1                          </td></tr>\n",
       "</tbody>\n",
       "</table>\n"
      ],
      "text/latex": [
       "\\begin{tabular}{r|lllllllllll}\n",
       " customer\\_id & first\\_name & last\\_name & email & cell\\_phone & movie\\_id & movie\\_title & purchase\\_datetime & movie\\_price & movie\\_genres & genre\\_id\\\\\n",
       "\\hline\n",
       "\t 1                           & Jackqueline                 & Dulanty                     & jdulanty0@goo.ne.jp         & +960-657-528-2938           & 1                           & Thirteenth Floor, The       & 2018-08-27 17:29:17         &  4.04                       & Drama                       & 1                          \\\\\n",
       "\t 1                           & Jackqueline                 & Dulanty                     & jdulanty0@goo.ne.jp         & +960-657-528-2938           & 1                           & Thirteenth Floor, The       & 2018-08-27 17:29:17         &  4.04                       & Sci-Fi                      & 2                          \\\\\n",
       "\t 1                           & Jackqueline                 & Dulanty                     & jdulanty0@goo.ne.jp         & +960-657-528-2938           & 1                           & Thirteenth Floor, The       & 2018-08-27 17:29:17         &  4.04                       & Thriller                    & 3                          \\\\\n",
       "\t 2                           & Merrili                     & Fost                        & mfost1@nps.gov              & +351-633-272-4106           & 2                           & Furies, The                 & 2018-08-20 08:42:38         &  6.96                       & Drama                       & 1                          \\\\\n",
       "\t 2                           & Merrili                     & Fost                        & mfost1@nps.gov              & +351-633-272-4106           & 2                           & Furies, The                 & 2018-08-20 08:42:38         &  6.96                       & Romance                     & 4                          \\\\\n",
       "\t 2                           & Merrili                     & Fost                        & mfost1@nps.gov              & +351-633-272-4106           & 2                           & Furies, The                 & 2018-08-20 08:42:38         &  6.96                       & Western                     & 5                          \\\\\n",
       "\t 3                           & Shae                        & Haberfield                  & shaberfield2@ihg.com        & +62-629-240-2964            & 3                           & Smart Money                 & 2018-07-24 00:15:35         & 13.47                       & Crime                       & 6                          \\\\\n",
       "\t 3                           & Shae                        & Haberfield                  & shaberfield2@ihg.com        & +62-629-240-2964            & 3                           & Smart Money                 & 2018-07-24 00:15:35         & 13.47                       & Drama                       & 1                          \\\\\n",
       "\t 4                           & Kennie                      & Church                      & kchurch3@nature.com         & +381-486-928-8686           & 4                           & Wishful Thinking            & 2018-09-22 11:01:17         & 13.40                       & Comedy                      & 7                          \\\\\n",
       "\t 5                           & Shadow                      & Puckett                     & spuckett4@shareasale.com    & +27-611-497-3264            & 5                           & You Are God (Jestes Bogiem) & 2018-01-15 08:41:31         & 10.38                       & Drama                       & 1                          \\\\\n",
       "\\end{tabular}\n"
      ],
      "text/markdown": [
       "\n",
       "customer_id | first_name | last_name | email | cell_phone | movie_id | movie_title | purchase_datetime | movie_price | movie_genres | genre_id | \n",
       "|---|---|---|---|---|---|---|---|---|---|\n",
       "| 1                           | Jackqueline                 | Dulanty                     | jdulanty0@goo.ne.jp         | +960-657-528-2938           | 1                           | Thirteenth Floor, The       | 2018-08-27 17:29:17         |  4.04                       | Drama                       | 1                           | \n",
       "| 1                           | Jackqueline                 | Dulanty                     | jdulanty0@goo.ne.jp         | +960-657-528-2938           | 1                           | Thirteenth Floor, The       | 2018-08-27 17:29:17         |  4.04                       | Sci-Fi                      | 2                           | \n",
       "| 1                           | Jackqueline                 | Dulanty                     | jdulanty0@goo.ne.jp         | +960-657-528-2938           | 1                           | Thirteenth Floor, The       | 2018-08-27 17:29:17         |  4.04                       | Thriller                    | 3                           | \n",
       "| 2                           | Merrili                     | Fost                        | mfost1@nps.gov              | +351-633-272-4106           | 2                           | Furies, The                 | 2018-08-20 08:42:38         |  6.96                       | Drama                       | 1                           | \n",
       "| 2                           | Merrili                     | Fost                        | mfost1@nps.gov              | +351-633-272-4106           | 2                           | Furies, The                 | 2018-08-20 08:42:38         |  6.96                       | Romance                     | 4                           | \n",
       "| 2                           | Merrili                     | Fost                        | mfost1@nps.gov              | +351-633-272-4106           | 2                           | Furies, The                 | 2018-08-20 08:42:38         |  6.96                       | Western                     | 5                           | \n",
       "| 3                           | Shae                        | Haberfield                  | shaberfield2@ihg.com        | +62-629-240-2964            | 3                           | Smart Money                 | 2018-07-24 00:15:35         | 13.47                       | Crime                       | 6                           | \n",
       "| 3                           | Shae                        | Haberfield                  | shaberfield2@ihg.com        | +62-629-240-2964            | 3                           | Smart Money                 | 2018-07-24 00:15:35         | 13.47                       | Drama                       | 1                           | \n",
       "| 4                           | Kennie                      | Church                      | kchurch3@nature.com         | +381-486-928-8686           | 4                           | Wishful Thinking            | 2018-09-22 11:01:17         | 13.40                       | Comedy                      | 7                           | \n",
       "| 5                           | Shadow                      | Puckett                     | spuckett4@shareasale.com    | +27-611-497-3264            | 5                           | You Are God (Jestes Bogiem) | 2018-01-15 08:41:31         | 10.38                       | Drama                       | 1                           | \n",
       "\n",
       "\n"
      ],
      "text/plain": [
       "   customer_id first_name  last_name  email                   \n",
       "1  1           Jackqueline Dulanty    jdulanty0@goo.ne.jp     \n",
       "2  1           Jackqueline Dulanty    jdulanty0@goo.ne.jp     \n",
       "3  1           Jackqueline Dulanty    jdulanty0@goo.ne.jp     \n",
       "4  2           Merrili     Fost       mfost1@nps.gov          \n",
       "5  2           Merrili     Fost       mfost1@nps.gov          \n",
       "6  2           Merrili     Fost       mfost1@nps.gov          \n",
       "7  3           Shae        Haberfield shaberfield2@ihg.com    \n",
       "8  3           Shae        Haberfield shaberfield2@ihg.com    \n",
       "9  4           Kennie      Church     kchurch3@nature.com     \n",
       "10 5           Shadow      Puckett    spuckett4@shareasale.com\n",
       "   cell_phone        movie_id movie_title                 purchase_datetime  \n",
       "1  +960-657-528-2938 1        Thirteenth Floor, The       2018-08-27 17:29:17\n",
       "2  +960-657-528-2938 1        Thirteenth Floor, The       2018-08-27 17:29:17\n",
       "3  +960-657-528-2938 1        Thirteenth Floor, The       2018-08-27 17:29:17\n",
       "4  +351-633-272-4106 2        Furies, The                 2018-08-20 08:42:38\n",
       "5  +351-633-272-4106 2        Furies, The                 2018-08-20 08:42:38\n",
       "6  +351-633-272-4106 2        Furies, The                 2018-08-20 08:42:38\n",
       "7  +62-629-240-2964  3        Smart Money                 2018-07-24 00:15:35\n",
       "8  +62-629-240-2964  3        Smart Money                 2018-07-24 00:15:35\n",
       "9  +381-486-928-8686 4        Wishful Thinking            2018-09-22 11:01:17\n",
       "10 +27-611-497-3264  5        You Are God (Jestes Bogiem) 2018-01-15 08:41:31\n",
       "   movie_price movie_genres genre_id\n",
       "1   4.04       Drama        1       \n",
       "2   4.04       Sci-Fi       2       \n",
       "3   4.04       Thriller     3       \n",
       "4   6.96       Drama        1       \n",
       "5   6.96       Romance      4       \n",
       "6   6.96       Western      5       \n",
       "7  13.47       Crime        6       \n",
       "8  13.47       Drama        1       \n",
       "9  13.40       Comedy       7       \n",
       "10 10.38       Drama        1       "
      ]
     },
     "metadata": {},
     "output_type": "display_data"
    }
   ],
   "source": [
    "head(df, 10)"
   ]
  },
  {
   "cell_type": "markdown",
   "metadata": {},
   "source": [
    "We do not need to assign any other primary keys. For the remaining two tables in our schema, we must only slice the main dataframe, eliminate duplicate rows and push to the database.\n",
    "\n",
    "Let's focus on ``movie_genres``."
   ]
  },
  {
   "cell_type": "code",
   "execution_count": 27,
   "metadata": {},
   "outputs": [
    {
     "data": {
      "text/html": [
       "<table>\n",
       "<thead><tr><th scope=col>movie_id</th><th scope=col>genre_id</th></tr></thead>\n",
       "<tbody>\n",
       "\t<tr><td> 1</td><td>1 </td></tr>\n",
       "\t<tr><td> 1</td><td>2 </td></tr>\n",
       "\t<tr><td> 1</td><td>3 </td></tr>\n",
       "\t<tr><td> 2</td><td>1 </td></tr>\n",
       "\t<tr><td> 2</td><td>4 </td></tr>\n",
       "\t<tr><td> 2</td><td>5 </td></tr>\n",
       "\t<tr><td> 3</td><td>6 </td></tr>\n",
       "\t<tr><td> 3</td><td>1 </td></tr>\n",
       "\t<tr><td> 4</td><td>7 </td></tr>\n",
       "\t<tr><td> 5</td><td>1 </td></tr>\n",
       "\t<tr><td> 6</td><td>1 </td></tr>\n",
       "\t<tr><td> 7</td><td>8 </td></tr>\n",
       "\t<tr><td> 7</td><td>6 </td></tr>\n",
       "\t<tr><td> 7</td><td>1 </td></tr>\n",
       "\t<tr><td> 7</td><td>3 </td></tr>\n",
       "\t<tr><td> 8</td><td>8 </td></tr>\n",
       "\t<tr><td> 8</td><td>9 </td></tr>\n",
       "\t<tr><td> 8</td><td>5 </td></tr>\n",
       "\t<tr><td> 9</td><td>3 </td></tr>\n",
       "\t<tr><td>10</td><td>1 </td></tr>\n",
       "</tbody>\n",
       "</table>\n"
      ],
      "text/latex": [
       "\\begin{tabular}{r|ll}\n",
       " movie\\_id & genre\\_id\\\\\n",
       "\\hline\n",
       "\t  1 & 1 \\\\\n",
       "\t  1 & 2 \\\\\n",
       "\t  1 & 3 \\\\\n",
       "\t  2 & 1 \\\\\n",
       "\t  2 & 4 \\\\\n",
       "\t  2 & 5 \\\\\n",
       "\t  3 & 6 \\\\\n",
       "\t  3 & 1 \\\\\n",
       "\t  4 & 7 \\\\\n",
       "\t  5 & 1 \\\\\n",
       "\t  6 & 1 \\\\\n",
       "\t  7 & 8 \\\\\n",
       "\t  7 & 6 \\\\\n",
       "\t  7 & 1 \\\\\n",
       "\t  7 & 3 \\\\\n",
       "\t  8 & 8 \\\\\n",
       "\t  8 & 9 \\\\\n",
       "\t  8 & 5 \\\\\n",
       "\t  9 & 3 \\\\\n",
       "\t 10 & 1 \\\\\n",
       "\\end{tabular}\n"
      ],
      "text/markdown": [
       "\n",
       "movie_id | genre_id | \n",
       "|---|---|---|---|---|---|---|---|---|---|---|---|---|---|---|---|---|---|---|---|\n",
       "|  1 | 1  | \n",
       "|  1 | 2  | \n",
       "|  1 | 3  | \n",
       "|  2 | 1  | \n",
       "|  2 | 4  | \n",
       "|  2 | 5  | \n",
       "|  3 | 6  | \n",
       "|  3 | 1  | \n",
       "|  4 | 7  | \n",
       "|  5 | 1  | \n",
       "|  6 | 1  | \n",
       "|  7 | 8  | \n",
       "|  7 | 6  | \n",
       "|  7 | 1  | \n",
       "|  7 | 3  | \n",
       "|  8 | 8  | \n",
       "|  8 | 9  | \n",
       "|  8 | 5  | \n",
       "|  9 | 3  | \n",
       "| 10 | 1  | \n",
       "\n",
       "\n"
      ],
      "text/plain": [
       "   movie_id genre_id\n",
       "1   1       1       \n",
       "2   1       2       \n",
       "3   1       3       \n",
       "4   2       1       \n",
       "5   2       4       \n",
       "6   2       5       \n",
       "7   3       6       \n",
       "8   3       1       \n",
       "9   4       7       \n",
       "10  5       1       \n",
       "11  6       1       \n",
       "12  7       8       \n",
       "13  7       6       \n",
       "14  7       1       \n",
       "15  7       3       \n",
       "16  8       8       \n",
       "17  8       9       \n",
       "18  8       5       \n",
       "19  9       3       \n",
       "20 10       1       "
      ]
     },
     "metadata": {},
     "output_type": "display_data"
    }
   ],
   "source": [
    "head(df[c('movie_id', 'genre_id')], 20)"
   ]
  },
  {
   "cell_type": "markdown",
   "metadata": {},
   "source": [
    "In order to check if there are any duplicate rows we should look into the rows for repeating movies, for example, \"Magic Man\"."
   ]
  },
  {
   "cell_type": "code",
   "execution_count": 28,
   "metadata": {},
   "outputs": [
    {
     "data": {
      "text/html": [
       "<table>\n",
       "<thead><tr><th></th><th scope=col>customer_id</th><th scope=col>first_name</th><th scope=col>last_name</th><th scope=col>email</th><th scope=col>cell_phone</th><th scope=col>movie_id</th><th scope=col>movie_title</th><th scope=col>purchase_datetime</th><th scope=col>movie_price</th><th scope=col>movie_genres</th><th scope=col>genre_id</th></tr></thead>\n",
       "<tbody>\n",
       "\t<tr><th scope=row>392</th><td>193                        </td><td>Johnny                     </td><td>Fullerlove                 </td><td>jfullerlove5c@economist.com</td><td>+351-495-428-5920          </td><td>193                        </td><td>Magic Man                  </td><td>2018-06-27 16:56:51        </td><td>14.77                      </td><td>Crime                      </td><td> 6                         </td></tr>\n",
       "\t<tr><th scope=row>393</th><td>193                        </td><td>Johnny                     </td><td>Fullerlove                 </td><td>jfullerlove5c@economist.com</td><td>+351-495-428-5920          </td><td>193                        </td><td>Magic Man                  </td><td>2018-06-27 16:56:51        </td><td>14.77                      </td><td>Mystery                    </td><td>16                         </td></tr>\n",
       "\t<tr><th scope=row>394</th><td>193                        </td><td>Johnny                     </td><td>Fullerlove                 </td><td>jfullerlove5c@economist.com</td><td>+351-495-428-5920          </td><td>193                        </td><td>Magic Man                  </td><td>2018-06-27 16:56:51        </td><td>14.77                      </td><td>Thriller                   </td><td> 3                         </td></tr>\n",
       "\t<tr><th scope=row>442</th><td>222                        </td><td>Lauree                     </td><td>Dingwall                   </td><td>ldingwall65@springer.com   </td><td>+212-807-564-8447          </td><td>193                        </td><td>Magic Man                  </td><td>2017-06-09 07:07:50        </td><td>13.73                      </td><td>Crime                      </td><td> 6                         </td></tr>\n",
       "\t<tr><th scope=row>443</th><td>222                        </td><td>Lauree                     </td><td>Dingwall                   </td><td>ldingwall65@springer.com   </td><td>+212-807-564-8447          </td><td>193                        </td><td>Magic Man                  </td><td>2017-06-09 07:07:50        </td><td>13.73                      </td><td>Mystery                    </td><td>16                         </td></tr>\n",
       "\t<tr><th scope=row>444</th><td>222                        </td><td>Lauree                     </td><td>Dingwall                   </td><td>ldingwall65@springer.com   </td><td>+212-807-564-8447          </td><td>193                        </td><td>Magic Man                  </td><td>2017-06-09 07:07:50        </td><td>13.73                      </td><td>Thriller                   </td><td> 3                         </td></tr>\n",
       "</tbody>\n",
       "</table>\n"
      ],
      "text/latex": [
       "\\begin{tabular}{r|lllllllllll}\n",
       "  & customer\\_id & first\\_name & last\\_name & email & cell\\_phone & movie\\_id & movie\\_title & purchase\\_datetime & movie\\_price & movie\\_genres & genre\\_id\\\\\n",
       "\\hline\n",
       "\t392 & 193                         & Johnny                      & Fullerlove                  & jfullerlove5c@economist.com & +351-495-428-5920           & 193                         & Magic Man                   & 2018-06-27 16:56:51         & 14.77                       & Crime                       &  6                         \\\\\n",
       "\t393 & 193                         & Johnny                      & Fullerlove                  & jfullerlove5c@economist.com & +351-495-428-5920           & 193                         & Magic Man                   & 2018-06-27 16:56:51         & 14.77                       & Mystery                     & 16                         \\\\\n",
       "\t394 & 193                         & Johnny                      & Fullerlove                  & jfullerlove5c@economist.com & +351-495-428-5920           & 193                         & Magic Man                   & 2018-06-27 16:56:51         & 14.77                       & Thriller                    &  3                         \\\\\n",
       "\t442 & 222                         & Lauree                      & Dingwall                    & ldingwall65@springer.com    & +212-807-564-8447           & 193                         & Magic Man                   & 2017-06-09 07:07:50         & 13.73                       & Crime                       &  6                         \\\\\n",
       "\t443 & 222                         & Lauree                      & Dingwall                    & ldingwall65@springer.com    & +212-807-564-8447           & 193                         & Magic Man                   & 2017-06-09 07:07:50         & 13.73                       & Mystery                     & 16                         \\\\\n",
       "\t444 & 222                         & Lauree                      & Dingwall                    & ldingwall65@springer.com    & +212-807-564-8447           & 193                         & Magic Man                   & 2017-06-09 07:07:50         & 13.73                       & Thriller                    &  3                         \\\\\n",
       "\\end{tabular}\n"
      ],
      "text/markdown": [
       "\n",
       "| <!--/--> | customer_id | first_name | last_name | email | cell_phone | movie_id | movie_title | purchase_datetime | movie_price | movie_genres | genre_id | \n",
       "|---|---|---|---|---|---|\n",
       "| 392 | 193                         | Johnny                      | Fullerlove                  | jfullerlove5c@economist.com | +351-495-428-5920           | 193                         | Magic Man                   | 2018-06-27 16:56:51         | 14.77                       | Crime                       |  6                          | \n",
       "| 393 | 193                         | Johnny                      | Fullerlove                  | jfullerlove5c@economist.com | +351-495-428-5920           | 193                         | Magic Man                   | 2018-06-27 16:56:51         | 14.77                       | Mystery                     | 16                          | \n",
       "| 394 | 193                         | Johnny                      | Fullerlove                  | jfullerlove5c@economist.com | +351-495-428-5920           | 193                         | Magic Man                   | 2018-06-27 16:56:51         | 14.77                       | Thriller                    |  3                          | \n",
       "| 442 | 222                         | Lauree                      | Dingwall                    | ldingwall65@springer.com    | +212-807-564-8447           | 193                         | Magic Man                   | 2017-06-09 07:07:50         | 13.73                       | Crime                       |  6                          | \n",
       "| 443 | 222                         | Lauree                      | Dingwall                    | ldingwall65@springer.com    | +212-807-564-8447           | 193                         | Magic Man                   | 2017-06-09 07:07:50         | 13.73                       | Mystery                     | 16                          | \n",
       "| 444 | 222                         | Lauree                      | Dingwall                    | ldingwall65@springer.com    | +212-807-564-8447           | 193                         | Magic Man                   | 2017-06-09 07:07:50         | 13.73                       | Thriller                    |  3                          | \n",
       "\n",
       "\n"
      ],
      "text/plain": [
       "    customer_id first_name last_name  email                      \n",
       "392 193         Johnny     Fullerlove jfullerlove5c@economist.com\n",
       "393 193         Johnny     Fullerlove jfullerlove5c@economist.com\n",
       "394 193         Johnny     Fullerlove jfullerlove5c@economist.com\n",
       "442 222         Lauree     Dingwall   ldingwall65@springer.com   \n",
       "443 222         Lauree     Dingwall   ldingwall65@springer.com   \n",
       "444 222         Lauree     Dingwall   ldingwall65@springer.com   \n",
       "    cell_phone        movie_id movie_title purchase_datetime   movie_price\n",
       "392 +351-495-428-5920 193      Magic Man   2018-06-27 16:56:51 14.77      \n",
       "393 +351-495-428-5920 193      Magic Man   2018-06-27 16:56:51 14.77      \n",
       "394 +351-495-428-5920 193      Magic Man   2018-06-27 16:56:51 14.77      \n",
       "442 +212-807-564-8447 193      Magic Man   2017-06-09 07:07:50 13.73      \n",
       "443 +212-807-564-8447 193      Magic Man   2017-06-09 07:07:50 13.73      \n",
       "444 +212-807-564-8447 193      Magic Man   2017-06-09 07:07:50 13.73      \n",
       "    movie_genres genre_id\n",
       "392 Crime         6      \n",
       "393 Mystery      16      \n",
       "394 Thriller      3      \n",
       "442 Crime         6      \n",
       "443 Mystery      16      \n",
       "444 Thriller      3      "
      ]
     },
     "metadata": {},
     "output_type": "display_data"
    }
   ],
   "source": [
    "df[df$movie_title == 'Magic Man',]"
   ]
  },
  {
   "cell_type": "markdown",
   "metadata": {},
   "source": [
    "For table ``movie_genres``, the composite primary key is made up from ``movie_id`` and ``genre_id``. As is made obvious above, pushing this ``df`` slide to the database without removinf duplicates would return an error since both Johny and Lauree purchased \"Magic Man\" (movie_id = 193 with gernre_id 6, 16, 3).\n",
    "\n",
    "Dropping duplicate rows and pushing to the database can be done in one command:"
   ]
  },
  {
   "cell_type": "code",
   "execution_count": 29,
   "metadata": {},
   "outputs": [
    {
     "data": {
      "text/html": [
       "TRUE"
      ],
      "text/latex": [
       "TRUE"
      ],
      "text/markdown": [
       "TRUE"
      ],
      "text/plain": [
       "[1] TRUE"
      ]
     },
     "metadata": {},
     "output_type": "display_data"
    }
   ],
   "source": [
    "dbWriteTable(con, name=\"movie_genres\", \n",
    "             value=df[c('movie_id', 'genre_id')][!duplicated(df[c('movie_id', 'genre_id')]),], \n",
    "             row.names=FALSE, append=TRUE)"
   ]
  },
  {
   "cell_type": "markdown",
   "metadata": {},
   "source": [
    "Finally, the process is the same for the ``orders`` table. If we look at the slice:"
   ]
  },
  {
   "cell_type": "code",
   "execution_count": 30,
   "metadata": {},
   "outputs": [
    {
     "data": {
      "text/html": [
       "<table>\n",
       "<thead><tr><th scope=col>customer_id</th><th scope=col>movie_id</th><th scope=col>movie_price</th><th scope=col>purchase_datetime</th></tr></thead>\n",
       "<tbody>\n",
       "\t<tr><td>1                  </td><td>1                  </td><td>4.04               </td><td>2018-08-27 17:29:17</td></tr>\n",
       "\t<tr><td>1                  </td><td>1                  </td><td>4.04               </td><td>2018-08-27 17:29:17</td></tr>\n",
       "\t<tr><td>1                  </td><td>1                  </td><td>4.04               </td><td>2018-08-27 17:29:17</td></tr>\n",
       "\t<tr><td>2                  </td><td>2                  </td><td>6.96               </td><td>2018-08-20 08:42:38</td></tr>\n",
       "\t<tr><td>2                  </td><td>2                  </td><td>6.96               </td><td>2018-08-20 08:42:38</td></tr>\n",
       "\t<tr><td>2                  </td><td>2                  </td><td>6.96               </td><td>2018-08-20 08:42:38</td></tr>\n",
       "</tbody>\n",
       "</table>\n"
      ],
      "text/latex": [
       "\\begin{tabular}{r|llll}\n",
       " customer\\_id & movie\\_id & movie\\_price & purchase\\_datetime\\\\\n",
       "\\hline\n",
       "\t 1                   & 1                   & 4.04                & 2018-08-27 17:29:17\\\\\n",
       "\t 1                   & 1                   & 4.04                & 2018-08-27 17:29:17\\\\\n",
       "\t 1                   & 1                   & 4.04                & 2018-08-27 17:29:17\\\\\n",
       "\t 2                   & 2                   & 6.96                & 2018-08-20 08:42:38\\\\\n",
       "\t 2                   & 2                   & 6.96                & 2018-08-20 08:42:38\\\\\n",
       "\t 2                   & 2                   & 6.96                & 2018-08-20 08:42:38\\\\\n",
       "\\end{tabular}\n"
      ],
      "text/markdown": [
       "\n",
       "customer_id | movie_id | movie_price | purchase_datetime | \n",
       "|---|---|---|---|---|---|\n",
       "| 1                   | 1                   | 4.04                | 2018-08-27 17:29:17 | \n",
       "| 1                   | 1                   | 4.04                | 2018-08-27 17:29:17 | \n",
       "| 1                   | 1                   | 4.04                | 2018-08-27 17:29:17 | \n",
       "| 2                   | 2                   | 6.96                | 2018-08-20 08:42:38 | \n",
       "| 2                   | 2                   | 6.96                | 2018-08-20 08:42:38 | \n",
       "| 2                   | 2                   | 6.96                | 2018-08-20 08:42:38 | \n",
       "\n",
       "\n"
      ],
      "text/plain": [
       "  customer_id movie_id movie_price purchase_datetime  \n",
       "1 1           1        4.04        2018-08-27 17:29:17\n",
       "2 1           1        4.04        2018-08-27 17:29:17\n",
       "3 1           1        4.04        2018-08-27 17:29:17\n",
       "4 2           2        6.96        2018-08-20 08:42:38\n",
       "5 2           2        6.96        2018-08-20 08:42:38\n",
       "6 2           2        6.96        2018-08-20 08:42:38"
      ]
     },
     "metadata": {},
     "output_type": "display_data"
    }
   ],
   "source": [
    "head(df[c('customer_id', 'movie_id', 'movie_price', 'purchase_datetime')])"
   ]
  },
  {
   "cell_type": "markdown",
   "metadata": {},
   "source": [
    "There are clearly duplicate rows that need to be removed before pushing to the database."
   ]
  },
  {
   "cell_type": "code",
   "execution_count": 31,
   "metadata": {},
   "outputs": [
    {
     "data": {
      "text/html": [
       "<table>\n",
       "<thead><tr><th></th><th scope=col>customer_id</th><th scope=col>movie_id</th><th scope=col>movie_price</th><th scope=col>purchase_datetime</th></tr></thead>\n",
       "<tbody>\n",
       "\t<tr><th scope=row>1</th><td>1                  </td><td>1                  </td><td> 4.04              </td><td>2018-08-27 17:29:17</td></tr>\n",
       "\t<tr><th scope=row>4</th><td>2                  </td><td>2                  </td><td> 6.96              </td><td>2018-08-20 08:42:38</td></tr>\n",
       "\t<tr><th scope=row>7</th><td>3                  </td><td>3                  </td><td>13.47              </td><td>2018-07-24 00:15:35</td></tr>\n",
       "\t<tr><th scope=row>9</th><td>4                  </td><td>4                  </td><td>13.40              </td><td>2018-09-22 11:01:17</td></tr>\n",
       "\t<tr><th scope=row>10</th><td>5                  </td><td>5                  </td><td>10.38              </td><td>2018-01-15 08:41:31</td></tr>\n",
       "\t<tr><th scope=row>11</th><td>6                  </td><td>6                  </td><td> 5.36              </td><td>2018-04-01 05:16:02</td></tr>\n",
       "</tbody>\n",
       "</table>\n"
      ],
      "text/latex": [
       "\\begin{tabular}{r|llll}\n",
       "  & customer\\_id & movie\\_id & movie\\_price & purchase\\_datetime\\\\\n",
       "\\hline\n",
       "\t1 & 1                   & 1                   &  4.04               & 2018-08-27 17:29:17\\\\\n",
       "\t4 & 2                   & 2                   &  6.96               & 2018-08-20 08:42:38\\\\\n",
       "\t7 & 3                   & 3                   & 13.47               & 2018-07-24 00:15:35\\\\\n",
       "\t9 & 4                   & 4                   & 13.40               & 2018-09-22 11:01:17\\\\\n",
       "\t10 & 5                   & 5                   & 10.38               & 2018-01-15 08:41:31\\\\\n",
       "\t11 & 6                   & 6                   &  5.36               & 2018-04-01 05:16:02\\\\\n",
       "\\end{tabular}\n"
      ],
      "text/markdown": [
       "\n",
       "| <!--/--> | customer_id | movie_id | movie_price | purchase_datetime | \n",
       "|---|---|---|---|---|---|\n",
       "| 1 | 1                   | 1                   |  4.04               | 2018-08-27 17:29:17 | \n",
       "| 4 | 2                   | 2                   |  6.96               | 2018-08-20 08:42:38 | \n",
       "| 7 | 3                   | 3                   | 13.47               | 2018-07-24 00:15:35 | \n",
       "| 9 | 4                   | 4                   | 13.40               | 2018-09-22 11:01:17 | \n",
       "| 10 | 5                   | 5                   | 10.38               | 2018-01-15 08:41:31 | \n",
       "| 11 | 6                   | 6                   |  5.36               | 2018-04-01 05:16:02 | \n",
       "\n",
       "\n"
      ],
      "text/plain": [
       "   customer_id movie_id movie_price purchase_datetime  \n",
       "1  1           1         4.04       2018-08-27 17:29:17\n",
       "4  2           2         6.96       2018-08-20 08:42:38\n",
       "7  3           3        13.47       2018-07-24 00:15:35\n",
       "9  4           4        13.40       2018-09-22 11:01:17\n",
       "10 5           5        10.38       2018-01-15 08:41:31\n",
       "11 6           6         5.36       2018-04-01 05:16:02"
      ]
     },
     "metadata": {},
     "output_type": "display_data"
    }
   ],
   "source": [
    "head(df[c('customer_id', 'movie_id', 'movie_price', 'purchase_datetime')][\n",
    "    !duplicated(df[c('customer_id', 'movie_id', 'movie_price', 'purchase_datetime')]),])"
   ]
  },
  {
   "cell_type": "markdown",
   "metadata": {},
   "source": [
    "Which we can also do in one command:"
   ]
  },
  {
   "cell_type": "code",
   "execution_count": 32,
   "metadata": {},
   "outputs": [
    {
     "data": {
      "text/html": [
       "TRUE"
      ],
      "text/latex": [
       "TRUE"
      ],
      "text/markdown": [
       "TRUE"
      ],
      "text/plain": [
       "[1] TRUE"
      ]
     },
     "metadata": {},
     "output_type": "display_data"
    }
   ],
   "source": [
    "dbWriteTable(con, name=\"orders\", \n",
    "             value=df[c('customer_id', 'movie_id', 'movie_price', 'purchase_datetime')][\n",
    "                 !duplicated(df[c('customer_id', 'movie_id', 'movie_price', 'purchase_datetime')]),], \n",
    "             row.names=FALSE, append=TRUE)"
   ]
  },
  {
   "cell_type": "markdown",
   "metadata": {},
   "source": [
    "## Spot Checks & Validation\n",
    "\n",
    "With all database tables populated, we must run some tests to make sure that data was tranferred properly and all relations have been upheld.\n",
    "\n",
    "Let's take a quick look at the original dataset:"
   ]
  },
  {
   "cell_type": "code",
   "execution_count": 33,
   "metadata": {},
   "outputs": [
    {
     "data": {
      "text/html": [
       "<table>\n",
       "<thead><tr><th scope=col>first_name</th><th scope=col>last_name</th><th scope=col>email</th><th scope=col>cell_phone</th><th scope=col>movie_title</th><th scope=col>movie_genres</th><th scope=col>purchase_datetime</th><th scope=col>movie_price</th></tr></thead>\n",
       "<tbody>\n",
       "\t<tr><td>Jackqueline                </td><td>Dulanty                    </td><td>jdulanty0@goo.ne.jp        </td><td>+960-657-528-2938          </td><td>Thirteenth Floor, The      </td><td>Drama|Sci-Fi|Thriller      </td><td>2018-08-27 17:29:17        </td><td> 4.04                      </td></tr>\n",
       "\t<tr><td>Merrili                    </td><td>Fost                       </td><td>mfost1@nps.gov             </td><td>+351-633-272-4106          </td><td>Furies, The                </td><td>Drama|Romance|Western      </td><td>2018-08-20 08:42:38        </td><td> 6.96                      </td></tr>\n",
       "\t<tr><td>Shae                       </td><td>Haberfield                 </td><td>shaberfield2@ihg.com       </td><td>+62-629-240-2964           </td><td>Smart Money                </td><td>Crime|Drama                </td><td>2018-07-24 00:15:35        </td><td>13.47                      </td></tr>\n",
       "\t<tr><td>Kennie                     </td><td>Church                     </td><td>kchurch3@nature.com        </td><td>+381-486-928-8686          </td><td>Wishful Thinking           </td><td>Comedy                     </td><td>2018-09-22 11:01:17        </td><td>13.40                      </td></tr>\n",
       "\t<tr><td>Shadow                     </td><td>Puckett                    </td><td>spuckett4@shareasale.com   </td><td>+27-611-497-3264           </td><td>You Are God (Jestes Bogiem)</td><td>Drama                      </td><td>2018-01-15 08:41:31        </td><td>10.38                      </td></tr>\n",
       "\t<tr><td>Rici                       </td><td>Burnett                    </td><td>rburnett5@state.tx.us      </td><td>                           </td><td>Through the Forest         </td><td>Drama                      </td><td>2018-04-01 05:16:02        </td><td> 5.36                      </td></tr>\n",
       "</tbody>\n",
       "</table>\n"
      ],
      "text/latex": [
       "\\begin{tabular}{r|llllllll}\n",
       " first\\_name & last\\_name & email & cell\\_phone & movie\\_title & movie\\_genres & purchase\\_datetime & movie\\_price\\\\\n",
       "\\hline\n",
       "\t Jackqueline                               & Dulanty                                   & jdulanty0@goo.ne.jp                       & +960-657-528-2938                         & Thirteenth Floor, The                     & Drama\\textbar{}Sci-Fi\\textbar{}Thriller & 2018-08-27 17:29:17                       &  4.04                                    \\\\\n",
       "\t Merrili                                   & Fost                                      & mfost1@nps.gov                            & +351-633-272-4106                         & Furies, The                               & Drama\\textbar{}Romance\\textbar{}Western & 2018-08-20 08:42:38                       &  6.96                                    \\\\\n",
       "\t Shae                            & Haberfield                      & shaberfield2@ihg.com            & +62-629-240-2964                & Smart Money                     & Crime\\textbar{}Drama           & 2018-07-24 00:15:35             & 13.47                          \\\\\n",
       "\t Kennie                      & Church                      & kchurch3@nature.com         & +381-486-928-8686           & Wishful Thinking            & Comedy                      & 2018-09-22 11:01:17         & 13.40                      \\\\\n",
       "\t Shadow                      & Puckett                     & spuckett4@shareasale.com    & +27-611-497-3264            & You Are God (Jestes Bogiem) & Drama                       & 2018-01-15 08:41:31         & 10.38                      \\\\\n",
       "\t Rici                        & Burnett                     & rburnett5@state.tx.us       &                             & Through the Forest          & Drama                       & 2018-04-01 05:16:02         &  5.36                      \\\\\n",
       "\\end{tabular}\n"
      ],
      "text/markdown": [
       "\n",
       "first_name | last_name | email | cell_phone | movie_title | movie_genres | purchase_datetime | movie_price | \n",
       "|---|---|---|---|---|---|\n",
       "| Jackqueline                 | Dulanty                     | jdulanty0@goo.ne.jp         | +960-657-528-2938           | Thirteenth Floor, The       | Drama|Sci-Fi|Thriller       | 2018-08-27 17:29:17         |  4.04                       | \n",
       "| Merrili                     | Fost                        | mfost1@nps.gov              | +351-633-272-4106           | Furies, The                 | Drama|Romance|Western       | 2018-08-20 08:42:38         |  6.96                       | \n",
       "| Shae                        | Haberfield                  | shaberfield2@ihg.com        | +62-629-240-2964            | Smart Money                 | Crime|Drama                 | 2018-07-24 00:15:35         | 13.47                       | \n",
       "| Kennie                      | Church                      | kchurch3@nature.com         | +381-486-928-8686           | Wishful Thinking            | Comedy                      | 2018-09-22 11:01:17         | 13.40                       | \n",
       "| Shadow                      | Puckett                     | spuckett4@shareasale.com    | +27-611-497-3264            | You Are God (Jestes Bogiem) | Drama                       | 2018-01-15 08:41:31         | 10.38                       | \n",
       "| Rici                        | Burnett                     | rburnett5@state.tx.us       |                             | Through the Forest          | Drama                       | 2018-04-01 05:16:02         |  5.36                       | \n",
       "\n",
       "\n"
      ],
      "text/plain": [
       "  first_name  last_name  email                    cell_phone       \n",
       "1 Jackqueline Dulanty    jdulanty0@goo.ne.jp      +960-657-528-2938\n",
       "2 Merrili     Fost       mfost1@nps.gov           +351-633-272-4106\n",
       "3 Shae        Haberfield shaberfield2@ihg.com     +62-629-240-2964 \n",
       "4 Kennie      Church     kchurch3@nature.com      +381-486-928-8686\n",
       "5 Shadow      Puckett    spuckett4@shareasale.com +27-611-497-3264 \n",
       "6 Rici        Burnett    rburnett5@state.tx.us                     \n",
       "  movie_title                 movie_genres          purchase_datetime  \n",
       "1 Thirteenth Floor, The       Drama|Sci-Fi|Thriller 2018-08-27 17:29:17\n",
       "2 Furies, The                 Drama|Romance|Western 2018-08-20 08:42:38\n",
       "3 Smart Money                 Crime|Drama           2018-07-24 00:15:35\n",
       "4 Wishful Thinking            Comedy                2018-09-22 11:01:17\n",
       "5 You Are God (Jestes Bogiem) Drama                 2018-01-15 08:41:31\n",
       "6 Through the Forest          Drama                 2018-04-01 05:16:02\n",
       "  movie_price\n",
       "1  4.04      \n",
       "2  6.96      \n",
       "3 13.47      \n",
       "4 13.40      \n",
       "5 10.38      \n",
       "6  5.36      "
      ]
     },
     "metadata": {},
     "output_type": "display_data"
    }
   ],
   "source": [
    "df2 <- read.csv('hw8_dataset_f18.csv')\n",
    "head(df2)"
   ]
  },
  {
   "cell_type": "markdown",
   "metadata": {},
   "source": [
    "We will query for, say, the genres of the movie \"The Furies\".\n",
    "\n",
    "*Note: remember that the connection url, engine and connection were initialized earlier therefore we do not have to repeate them hereon.*"
   ]
  },
  {
   "cell_type": "code",
   "execution_count": 34,
   "metadata": {},
   "outputs": [
    {
     "data": {
      "text/html": [
       "<table>\n",
       "<thead><tr><th scope=col>genre</th></tr></thead>\n",
       "<tbody>\n",
       "\t<tr><td>Drama  </td></tr>\n",
       "\t<tr><td>Romance</td></tr>\n",
       "\t<tr><td>Western</td></tr>\n",
       "</tbody>\n",
       "</table>\n"
      ],
      "text/latex": [
       "\\begin{tabular}{r|l}\n",
       " genre\\\\\n",
       "\\hline\n",
       "\t Drama  \\\\\n",
       "\t Romance\\\\\n",
       "\t Western\\\\\n",
       "\\end{tabular}\n"
      ],
      "text/markdown": [
       "\n",
       "genre | \n",
       "|---|---|---|\n",
       "| Drama   | \n",
       "| Romance | \n",
       "| Western | \n",
       "\n",
       "\n"
      ],
      "text/plain": [
       "  genre  \n",
       "1 Drama  \n",
       "2 Romance\n",
       "3 Western"
      ]
     },
     "metadata": {},
     "output_type": "display_data"
    }
   ],
   "source": [
    "# Pass the SQL statement to filter data \n",
    "stmt <- \"\n",
    "\n",
    "    SELECT g.genre \n",
    "    FROM genres g\n",
    "    JOIN movie_genres mg ON g.genre_id = mg.genre_id\n",
    "    JOIN movies m ON m.movie_id = mg.movie_id\n",
    "    WHERE m.movie_title = 'Furies, The';\n",
    "\n",
    "\"\n",
    "\n",
    "# Execute the statement and store results in a temporary dataframe\n",
    "temp_df <- dbGetQuery(con, stmt)\n",
    "\n",
    "# Show results\n",
    "temp_df"
   ]
  },
  {
   "cell_type": "markdown",
   "metadata": {},
   "source": [
    "So far so good. It would be wise to test the same query on movie titles that were repeating, such as \"Magic Man\" to make sure that genres for this movie have not been stored more than once."
   ]
  },
  {
   "cell_type": "code",
   "execution_count": 35,
   "metadata": {},
   "outputs": [
    {
     "data": {
      "text/html": [
       "<table>\n",
       "<thead><tr><th></th><th scope=col>first_name</th><th scope=col>last_name</th><th scope=col>email</th><th scope=col>cell_phone</th><th scope=col>movie_title</th><th scope=col>movie_genres</th><th scope=col>purchase_datetime</th><th scope=col>movie_price</th></tr></thead>\n",
       "<tbody>\n",
       "\t<tr><th scope=row>193</th><td>Johnny                     </td><td>Fullerlove                 </td><td>jfullerlove5c@economist.com</td><td>+351-495-428-5920          </td><td>Magic Man                  </td><td>Crime|Mystery|Thriller     </td><td>2018-06-27 16:56:51        </td><td>14.77                      </td></tr>\n",
       "\t<tr><th scope=row>222</th><td>Lauree                     </td><td>Dingwall                   </td><td>ldingwall65@springer.com   </td><td>+212-807-564-8447          </td><td>Magic Man                  </td><td>Crime|Mystery|Thriller     </td><td>2017-06-09 07:07:50        </td><td>13.73                      </td></tr>\n",
       "</tbody>\n",
       "</table>\n"
      ],
      "text/latex": [
       "\\begin{tabular}{r|llllllll}\n",
       "  & first\\_name & last\\_name & email & cell\\_phone & movie\\_title & movie\\_genres & purchase\\_datetime & movie\\_price\\\\\n",
       "\\hline\n",
       "\t193 & Johnny                                     & Fullerlove                                 & jfullerlove5c@economist.com                & +351-495-428-5920                          & Magic Man                                  & Crime\\textbar{}Mystery\\textbar{}Thriller & 2018-06-27 16:56:51                        & 14.77                                     \\\\\n",
       "\t222 & Lauree                                     & Dingwall                                   & ldingwall65@springer.com                   & +212-807-564-8447                          & Magic Man                                  & Crime\\textbar{}Mystery\\textbar{}Thriller & 2017-06-09 07:07:50                        & 13.73                                     \\\\\n",
       "\\end{tabular}\n"
      ],
      "text/markdown": [
       "\n",
       "| <!--/--> | first_name | last_name | email | cell_phone | movie_title | movie_genres | purchase_datetime | movie_price | \n",
       "|---|---|\n",
       "| 193 | Johnny                      | Fullerlove                  | jfullerlove5c@economist.com | +351-495-428-5920           | Magic Man                   | Crime|Mystery|Thriller      | 2018-06-27 16:56:51         | 14.77                       | \n",
       "| 222 | Lauree                      | Dingwall                    | ldingwall65@springer.com    | +212-807-564-8447           | Magic Man                   | Crime|Mystery|Thriller      | 2017-06-09 07:07:50         | 13.73                       | \n",
       "\n",
       "\n"
      ],
      "text/plain": [
       "    first_name last_name  email                       cell_phone       \n",
       "193 Johnny     Fullerlove jfullerlove5c@economist.com +351-495-428-5920\n",
       "222 Lauree     Dingwall   ldingwall65@springer.com    +212-807-564-8447\n",
       "    movie_title movie_genres           purchase_datetime   movie_price\n",
       "193 Magic Man   Crime|Mystery|Thriller 2018-06-27 16:56:51 14.77      \n",
       "222 Magic Man   Crime|Mystery|Thriller 2017-06-09 07:07:50 13.73      "
      ]
     },
     "metadata": {},
     "output_type": "display_data"
    }
   ],
   "source": [
    "df2[df2$movie_title == 'Magic Man',]"
   ]
  },
  {
   "cell_type": "code",
   "execution_count": 36,
   "metadata": {},
   "outputs": [
    {
     "data": {
      "text/html": [
       "<table>\n",
       "<thead><tr><th scope=col>genre</th></tr></thead>\n",
       "<tbody>\n",
       "\t<tr><td>Crime   </td></tr>\n",
       "\t<tr><td>Mystery </td></tr>\n",
       "\t<tr><td>Thriller</td></tr>\n",
       "</tbody>\n",
       "</table>\n"
      ],
      "text/latex": [
       "\\begin{tabular}{r|l}\n",
       " genre\\\\\n",
       "\\hline\n",
       "\t Crime   \\\\\n",
       "\t Mystery \\\\\n",
       "\t Thriller\\\\\n",
       "\\end{tabular}\n"
      ],
      "text/markdown": [
       "\n",
       "genre | \n",
       "|---|---|---|\n",
       "| Crime    | \n",
       "| Mystery  | \n",
       "| Thriller | \n",
       "\n",
       "\n"
      ],
      "text/plain": [
       "  genre   \n",
       "1 Crime   \n",
       "2 Mystery \n",
       "3 Thriller"
      ]
     },
     "metadata": {},
     "output_type": "display_data"
    }
   ],
   "source": [
    "# Pass the SQL statement to filter data \n",
    "stmt <- \"\n",
    "\n",
    "    SELECT g.genre \n",
    "    FROM genres g\n",
    "    JOIN movie_genres mg ON g.genre_id = mg.genre_id\n",
    "    JOIN movies m ON m.movie_id = mg.movie_id\n",
    "    WHERE m.movie_title = 'Magic Man';\n",
    "\n",
    "\"\n",
    "\n",
    "# Execute the statement and store results in a temporary dataframe\n",
    "temp_df <- dbGetQuery(con, stmt)\n",
    "\n",
    "# Show results\n",
    "temp_df"
   ]
  },
  {
   "cell_type": "markdown",
   "metadata": {},
   "source": [
    "Great! Let's get a quick count of all movies that have been purchased more than once:"
   ]
  },
  {
   "cell_type": "code",
   "execution_count": 37,
   "metadata": {},
   "outputs": [
    {
     "data": {
      "text/html": [
       "<table>\n",
       "<thead><tr><th scope=col>movie_title</th><th scope=col>movie_count</th></tr></thead>\n",
       "<tbody>\n",
       "\t<tr><td>Whirlygirl                                                </td><td>3                                                         </td></tr>\n",
       "\t<tr><td>Only Old Men Are Going to Battle (V boy idut odni stariki)</td><td>2                                                         </td></tr>\n",
       "\t<tr><td>The Beehive                                               </td><td>2                                                         </td></tr>\n",
       "\t<tr><td>Invisible Agent                                           </td><td>2                                                         </td></tr>\n",
       "\t<tr><td>Strike (Stachka)                                          </td><td>2                                                         </td></tr>\n",
       "\t<tr><td>I Saw the Sun (Günesi gördüm)                             </td><td>2                                                         </td></tr>\n",
       "\t<tr><td>Afterwards                                                </td><td>2                                                         </td></tr>\n",
       "\t<tr><td>Borrowers, The                                            </td><td>2                                                         </td></tr>\n",
       "\t<tr><td>Burn After Reading                                        </td><td>2                                                         </td></tr>\n",
       "\t<tr><td>Slap Her... She's French (a.k.a. She Gets What She Wants) </td><td>2                                                         </td></tr>\n",
       "\t<tr><td>Dirty Dozen, The                                          </td><td>2                                                         </td></tr>\n",
       "\t<tr><td>Infernal Affairs 2 (Mou gaan dou II)                      </td><td>2                                                         </td></tr>\n",
       "\t<tr><td>Entitled, The                                             </td><td>2                                                         </td></tr>\n",
       "\t<tr><td>Chosen, The                                               </td><td>2                                                         </td></tr>\n",
       "\t<tr><td>Out of Time                                               </td><td>2                                                         </td></tr>\n",
       "\t<tr><td>King and the Mockingbird, The (Le roi et l'oiseau)        </td><td>2                                                         </td></tr>\n",
       "\t<tr><td>Sentinel, The                                             </td><td>2                                                         </td></tr>\n",
       "\t<tr><td>Secret Garden, The                                        </td><td>2                                                         </td></tr>\n",
       "\t<tr><td>Magic Man                                                 </td><td>2                                                         </td></tr>\n",
       "</tbody>\n",
       "</table>\n"
      ],
      "text/latex": [
       "\\begin{tabular}{r|ll}\n",
       " movie\\_title & movie\\_count\\\\\n",
       "\\hline\n",
       "\t Whirlygirl                                                 & 3                                                         \\\\\n",
       "\t Only Old Men Are Going to Battle (V boy idut odni stariki) & 2                                                         \\\\\n",
       "\t The Beehive                                                & 2                                                         \\\\\n",
       "\t Invisible Agent                                            & 2                                                         \\\\\n",
       "\t Strike (Stachka)                                           & 2                                                         \\\\\n",
       "\t I Saw the Sun (Günesi gördüm)                              & 2                                                         \\\\\n",
       "\t Afterwards                                                 & 2                                                         \\\\\n",
       "\t Borrowers, The                                             & 2                                                         \\\\\n",
       "\t Burn After Reading                                         & 2                                                         \\\\\n",
       "\t Slap Her... She's French (a.k.a. She Gets What She Wants)  & 2                                                         \\\\\n",
       "\t Dirty Dozen, The                                           & 2                                                         \\\\\n",
       "\t Infernal Affairs 2 (Mou gaan dou II)                       & 2                                                         \\\\\n",
       "\t Entitled, The                                              & 2                                                         \\\\\n",
       "\t Chosen, The                                                & 2                                                         \\\\\n",
       "\t Out of Time                                                & 2                                                         \\\\\n",
       "\t King and the Mockingbird, The (Le roi et l'oiseau)         & 2                                                         \\\\\n",
       "\t Sentinel, The                                              & 2                                                         \\\\\n",
       "\t Secret Garden, The                                         & 2                                                         \\\\\n",
       "\t Magic Man                                                  & 2                                                         \\\\\n",
       "\\end{tabular}\n"
      ],
      "text/markdown": [
       "\n",
       "movie_title | movie_count | \n",
       "|---|---|---|---|---|---|---|---|---|---|---|---|---|---|---|---|---|---|---|\n",
       "| Whirlygirl                                                 | 3                                                          | \n",
       "| Only Old Men Are Going to Battle (V boy idut odni stariki) | 2                                                          | \n",
       "| The Beehive                                                | 2                                                          | \n",
       "| Invisible Agent                                            | 2                                                          | \n",
       "| Strike (Stachka)                                           | 2                                                          | \n",
       "| I Saw the Sun (Günesi gördüm)                              | 2                                                          | \n",
       "| Afterwards                                                 | 2                                                          | \n",
       "| Borrowers, The                                             | 2                                                          | \n",
       "| Burn After Reading                                         | 2                                                          | \n",
       "| Slap Her... She's French (a.k.a. She Gets What She Wants)  | 2                                                          | \n",
       "| Dirty Dozen, The                                           | 2                                                          | \n",
       "| Infernal Affairs 2 (Mou gaan dou II)                       | 2                                                          | \n",
       "| Entitled, The                                              | 2                                                          | \n",
       "| Chosen, The                                                | 2                                                          | \n",
       "| Out of Time                                                | 2                                                          | \n",
       "| King and the Mockingbird, The (Le roi et l'oiseau)         | 2                                                          | \n",
       "| Sentinel, The                                              | 2                                                          | \n",
       "| Secret Garden, The                                         | 2                                                          | \n",
       "| Magic Man                                                  | 2                                                          | \n",
       "\n",
       "\n"
      ],
      "text/plain": [
       "   movie_title                                                movie_count\n",
       "1  Whirlygirl                                                 3          \n",
       "2  Only Old Men Are Going to Battle (V boy idut odni stariki) 2          \n",
       "3  The Beehive                                                2          \n",
       "4  Invisible Agent                                            2          \n",
       "5  Strike (Stachka)                                           2          \n",
       "6  I Saw the Sun (Günesi gördüm)                              2          \n",
       "7  Afterwards                                                 2          \n",
       "8  Borrowers, The                                             2          \n",
       "9  Burn After Reading                                         2          \n",
       "10 Slap Her... She's French (a.k.a. She Gets What She Wants)  2          \n",
       "11 Dirty Dozen, The                                           2          \n",
       "12 Infernal Affairs 2 (Mou gaan dou II)                       2          \n",
       "13 Entitled, The                                              2          \n",
       "14 Chosen, The                                                2          \n",
       "15 Out of Time                                                2          \n",
       "16 King and the Mockingbird, The (Le roi et l'oiseau)         2          \n",
       "17 Sentinel, The                                              2          \n",
       "18 Secret Garden, The                                         2          \n",
       "19 Magic Man                                                  2          "
      ]
     },
     "metadata": {},
     "output_type": "display_data"
    }
   ],
   "source": [
    "# Pass the SQL statement to filter data \n",
    "stmt <- \"\n",
    "\n",
    "    SELECT m.movie_title, COUNT(m.movie_title) AS movie_count\n",
    "    FROM movies m\n",
    "    JOIN orders o ON o.movie_id = m.movie_id\n",
    "    GROUP BY m.movie_title\n",
    "    HAVING COUNT(m.movie_title) > 1\n",
    "    ORDER BY movie_count DESC;\n",
    "\n",
    "\"\n",
    "\n",
    "# Execute the statement and store results in a temporary dataframe\n",
    "temp_df <- dbGetQuery(con, stmt)\n",
    "\n",
    "# Show results\n",
    "temp_df"
   ]
  },
  {
   "cell_type": "markdown",
   "metadata": {},
   "source": [
    "It appears that the most popular movie was \"Whirlygirl\". Similarly, we can get counts of movie genres:"
   ]
  },
  {
   "cell_type": "code",
   "execution_count": 38,
   "metadata": {},
   "outputs": [
    {
     "data": {
      "text/html": [
       "<table>\n",
       "<thead><tr><th scope=col>genre</th><th scope=col>genre_count</th></tr></thead>\n",
       "<tbody>\n",
       "\t<tr><td>Drama             </td><td>479               </td></tr>\n",
       "\t<tr><td>Comedy            </td><td>293               </td></tr>\n",
       "\t<tr><td>Thriller          </td><td>167               </td></tr>\n",
       "\t<tr><td>Romance           </td><td>131               </td></tr>\n",
       "\t<tr><td>Action            </td><td>125               </td></tr>\n",
       "\t<tr><td>Crime             </td><td>104               </td></tr>\n",
       "\t<tr><td>Horror            </td><td>103               </td></tr>\n",
       "\t<tr><td>Adventure         </td><td> 81               </td></tr>\n",
       "\t<tr><td>Documentary       </td><td> 79               </td></tr>\n",
       "\t<tr><td>Mystery           </td><td> 55               </td></tr>\n",
       "\t<tr><td>Sci-Fi            </td><td> 53               </td></tr>\n",
       "\t<tr><td>Fantasy           </td><td> 52               </td></tr>\n",
       "\t<tr><td>War               </td><td> 47               </td></tr>\n",
       "\t<tr><td>Children          </td><td> 38               </td></tr>\n",
       "\t<tr><td>Musical           </td><td> 37               </td></tr>\n",
       "\t<tr><td>Western           </td><td> 33               </td></tr>\n",
       "\t<tr><td>Animation         </td><td> 30               </td></tr>\n",
       "\t<tr><td>Film-Noir         </td><td> 15               </td></tr>\n",
       "\t<tr><td>(no genres listed)</td><td> 10               </td></tr>\n",
       "\t<tr><td>IMAX              </td><td>  7               </td></tr>\n",
       "</tbody>\n",
       "</table>\n"
      ],
      "text/latex": [
       "\\begin{tabular}{r|ll}\n",
       " genre & genre\\_count\\\\\n",
       "\\hline\n",
       "\t Drama              & 479               \\\\\n",
       "\t Comedy             & 293               \\\\\n",
       "\t Thriller           & 167               \\\\\n",
       "\t Romance            & 131               \\\\\n",
       "\t Action             & 125               \\\\\n",
       "\t Crime              & 104               \\\\\n",
       "\t Horror             & 103               \\\\\n",
       "\t Adventure          &  81               \\\\\n",
       "\t Documentary        &  79               \\\\\n",
       "\t Mystery            &  55               \\\\\n",
       "\t Sci-Fi             &  53               \\\\\n",
       "\t Fantasy            &  52               \\\\\n",
       "\t War                &  47               \\\\\n",
       "\t Children           &  38               \\\\\n",
       "\t Musical            &  37               \\\\\n",
       "\t Western            &  33               \\\\\n",
       "\t Animation          &  30               \\\\\n",
       "\t Film-Noir          &  15               \\\\\n",
       "\t (no genres listed) &  10               \\\\\n",
       "\t IMAX               &   7               \\\\\n",
       "\\end{tabular}\n"
      ],
      "text/markdown": [
       "\n",
       "genre | genre_count | \n",
       "|---|---|---|---|---|---|---|---|---|---|---|---|---|---|---|---|---|---|---|---|\n",
       "| Drama              | 479                | \n",
       "| Comedy             | 293                | \n",
       "| Thriller           | 167                | \n",
       "| Romance            | 131                | \n",
       "| Action             | 125                | \n",
       "| Crime              | 104                | \n",
       "| Horror             | 103                | \n",
       "| Adventure          |  81                | \n",
       "| Documentary        |  79                | \n",
       "| Mystery            |  55                | \n",
       "| Sci-Fi             |  53                | \n",
       "| Fantasy            |  52                | \n",
       "| War                |  47                | \n",
       "| Children           |  38                | \n",
       "| Musical            |  37                | \n",
       "| Western            |  33                | \n",
       "| Animation          |  30                | \n",
       "| Film-Noir          |  15                | \n",
       "| (no genres listed) |  10                | \n",
       "| IMAX               |   7                | \n",
       "\n",
       "\n"
      ],
      "text/plain": [
       "   genre              genre_count\n",
       "1  Drama              479        \n",
       "2  Comedy             293        \n",
       "3  Thriller           167        \n",
       "4  Romance            131        \n",
       "5  Action             125        \n",
       "6  Crime              104        \n",
       "7  Horror             103        \n",
       "8  Adventure           81        \n",
       "9  Documentary         79        \n",
       "10 Mystery             55        \n",
       "11 Sci-Fi              53        \n",
       "12 Fantasy             52        \n",
       "13 War                 47        \n",
       "14 Children            38        \n",
       "15 Musical             37        \n",
       "16 Western             33        \n",
       "17 Animation           30        \n",
       "18 Film-Noir           15        \n",
       "19 (no genres listed)  10        \n",
       "20 IMAX                 7        "
      ]
     },
     "metadata": {},
     "output_type": "display_data"
    }
   ],
   "source": [
    "# Pass the SQL statement to filter data \n",
    "stmt <- \"\n",
    "\n",
    "    SELECT g.genre, COUNT(g.genre) AS genre_count\n",
    "    FROM genres g\n",
    "    JOIN movie_genres mg ON g.genre_id = mg.genre_id\n",
    "    GROUP BY g.genre\n",
    "    ORDER BY genre_count DESC;\n",
    "\n",
    "\"\n",
    "\n",
    "# Execute the statement and store results in a temporary dataframe\n",
    "temp_df <- dbGetQuery(con, stmt)\n",
    "\n",
    "# Show results\n",
    "temp_df"
   ]
  },
  {
   "cell_type": "markdown",
   "metadata": {},
   "source": [
    "Finally, since \"Whirlygirl\" was sold more than once, let's look at when it was purchased and by whom:"
   ]
  },
  {
   "cell_type": "code",
   "execution_count": 39,
   "metadata": {},
   "outputs": [
    {
     "data": {
      "text/html": [
       "<table>\n",
       "<thead><tr><th scope=col>first_name</th><th scope=col>last_name</th><th scope=col>movie_title</th><th scope=col>movie_price</th><th scope=col>purchase_datetime</th></tr></thead>\n",
       "<tbody>\n",
       "\t<tr><td>Madel              </td><td>Kirkland           </td><td>Whirlygirl         </td><td> 2.92              </td><td>2017-06-04 08:21:41</td></tr>\n",
       "\t<tr><td>Elwyn              </td><td>Furness            </td><td>Whirlygirl         </td><td> 2.24              </td><td>2017-02-05 21:26:18</td></tr>\n",
       "\t<tr><td>Eyde               </td><td>Lippitt            </td><td>Whirlygirl         </td><td>17.97              </td><td>2018-04-29 07:37:39</td></tr>\n",
       "</tbody>\n",
       "</table>\n"
      ],
      "text/latex": [
       "\\begin{tabular}{r|lllll}\n",
       " first\\_name & last\\_name & movie\\_title & movie\\_price & purchase\\_datetime\\\\\n",
       "\\hline\n",
       "\t Madel               & Kirkland            & Whirlygirl          &  2.92               & 2017-06-04 08:21:41\\\\\n",
       "\t Elwyn               & Furness             & Whirlygirl          &  2.24               & 2017-02-05 21:26:18\\\\\n",
       "\t Eyde                & Lippitt             & Whirlygirl          & 17.97               & 2018-04-29 07:37:39\\\\\n",
       "\\end{tabular}\n"
      ],
      "text/markdown": [
       "\n",
       "first_name | last_name | movie_title | movie_price | purchase_datetime | \n",
       "|---|---|---|\n",
       "| Madel               | Kirkland            | Whirlygirl          |  2.92               | 2017-06-04 08:21:41 | \n",
       "| Elwyn               | Furness             | Whirlygirl          |  2.24               | 2017-02-05 21:26:18 | \n",
       "| Eyde                | Lippitt             | Whirlygirl          | 17.97               | 2018-04-29 07:37:39 | \n",
       "\n",
       "\n"
      ],
      "text/plain": [
       "  first_name last_name movie_title movie_price purchase_datetime  \n",
       "1 Madel      Kirkland  Whirlygirl   2.92       2017-06-04 08:21:41\n",
       "2 Elwyn      Furness   Whirlygirl   2.24       2017-02-05 21:26:18\n",
       "3 Eyde       Lippitt   Whirlygirl  17.97       2018-04-29 07:37:39"
      ]
     },
     "metadata": {},
     "output_type": "display_data"
    }
   ],
   "source": [
    "# Pass the SQL statement to filter data \n",
    "stmt <- \"\n",
    "\n",
    "    SELECT c.first_name, c.last_name, m. movie_title, o.movie_price, o.purchase_datetime\n",
    "    FROM orders o\n",
    "    JOIN movies m ON m.movie_id = o.movie_id\n",
    "    JOIN customers c ON c.customer_id = o.customer_id\n",
    "    WHERE m.movie_title = 'Whirlygirl';\n",
    "\n",
    "\"\n",
    "\n",
    "# Execute the statement and store results in a temporary dataframe\n",
    "temp_df <- dbGetQuery(con, stmt)\n",
    "\n",
    "# Show results\n",
    "temp_df"
   ]
  },
  {
   "cell_type": "markdown",
   "metadata": {},
   "source": [
    "The result matching the original dataset for the same movie:"
   ]
  },
  {
   "cell_type": "code",
   "execution_count": 40,
   "metadata": {},
   "outputs": [
    {
     "data": {
      "text/html": [
       "<table>\n",
       "<thead><tr><th></th><th scope=col>first_name</th><th scope=col>last_name</th><th scope=col>email</th><th scope=col>cell_phone</th><th scope=col>movie_title</th><th scope=col>movie_genres</th><th scope=col>purchase_datetime</th><th scope=col>movie_price</th></tr></thead>\n",
       "<tbody>\n",
       "\t<tr><th scope=row>156</th><td>Madel                      </td><td>Kirkland                   </td><td>mkirkland4b@arstechnica.com</td><td>+63-712-138-5062           </td><td>Whirlygirl                 </td><td>Drama|Romance              </td><td>2017-06-04 08:21:41        </td><td> 2.92                      </td></tr>\n",
       "\t<tr><th scope=row>695</th><td>Elwyn                      </td><td>Furness                    </td><td>efurnessja@xrea.com        </td><td>+86-618-650-7587           </td><td>Whirlygirl                 </td><td>Drama|Romance              </td><td>2017-02-05 21:26:18        </td><td> 2.24                      </td></tr>\n",
       "\t<tr><th scope=row>816</th><td>Eyde                       </td><td>Lippitt                    </td><td>elippittmn@virginia.edu    </td><td>+86-120-329-8613           </td><td>Whirlygirl                 </td><td>Drama|Romance              </td><td>2018-04-29 07:37:39        </td><td>17.97                      </td></tr>\n",
       "</tbody>\n",
       "</table>\n"
      ],
      "text/latex": [
       "\\begin{tabular}{r|llllllll}\n",
       "  & first\\_name & last\\_name & email & cell\\_phone & movie\\_title & movie\\_genres & purchase\\_datetime & movie\\_price\\\\\n",
       "\\hline\n",
       "\t156 & Madel                       & Kirkland                    & mkirkland4b@arstechnica.com & +63-712-138-5062            & Whirlygirl                  & Drama\\textbar{}Romance     & 2017-06-04 08:21:41         &  2.92                      \\\\\n",
       "\t695 & Elwyn                       & Furness                     & efurnessja@xrea.com         & +86-618-650-7587            & Whirlygirl                  & Drama\\textbar{}Romance     & 2017-02-05 21:26:18         &  2.24                      \\\\\n",
       "\t816 & Eyde                        & Lippitt                     & elippittmn@virginia.edu     & +86-120-329-8613            & Whirlygirl                  & Drama\\textbar{}Romance     & 2018-04-29 07:37:39         & 17.97                      \\\\\n",
       "\\end{tabular}\n"
      ],
      "text/markdown": [
       "\n",
       "| <!--/--> | first_name | last_name | email | cell_phone | movie_title | movie_genres | purchase_datetime | movie_price | \n",
       "|---|---|---|\n",
       "| 156 | Madel                       | Kirkland                    | mkirkland4b@arstechnica.com | +63-712-138-5062            | Whirlygirl                  | Drama|Romance               | 2017-06-04 08:21:41         |  2.92                       | \n",
       "| 695 | Elwyn                       | Furness                     | efurnessja@xrea.com         | +86-618-650-7587            | Whirlygirl                  | Drama|Romance               | 2017-02-05 21:26:18         |  2.24                       | \n",
       "| 816 | Eyde                        | Lippitt                     | elippittmn@virginia.edu     | +86-120-329-8613            | Whirlygirl                  | Drama|Romance               | 2018-04-29 07:37:39         | 17.97                       | \n",
       "\n",
       "\n"
      ],
      "text/plain": [
       "    first_name last_name email                       cell_phone      \n",
       "156 Madel      Kirkland  mkirkland4b@arstechnica.com +63-712-138-5062\n",
       "695 Elwyn      Furness   efurnessja@xrea.com         +86-618-650-7587\n",
       "816 Eyde       Lippitt   elippittmn@virginia.edu     +86-120-329-8613\n",
       "    movie_title movie_genres  purchase_datetime   movie_price\n",
       "156 Whirlygirl  Drama|Romance 2017-06-04 08:21:41  2.92      \n",
       "695 Whirlygirl  Drama|Romance 2017-02-05 21:26:18  2.24      \n",
       "816 Whirlygirl  Drama|Romance 2018-04-29 07:37:39 17.97      "
      ]
     },
     "metadata": {},
     "output_type": "display_data"
    }
   ],
   "source": [
    "df2[df2$movie_title == 'Whirlygirl',]"
   ]
  },
  {
   "cell_type": "markdown",
   "metadata": {},
   "source": [
    "## Conclusion\n",
    "\n",
    "This exercise was a basic normalization and ETL process aimed at building your skills in developing and populating relational databases. A small change in the original dataset could lead to a completely different database design and ETL process. It is therefore very important to develop your coding skills so that you are comfortable and flexible implementing different approaches. There is no effective book or guide on how to implement ETL processes. It all comes down to creativity and lots of practice."
   ]
  }
 ],
 "metadata": {
  "kernelspec": {
   "display_name": "R",
   "language": "R",
   "name": "ir"
  },
  "language_info": {
   "codemirror_mode": "r",
   "file_extension": ".r",
   "mimetype": "text/x-r-source",
   "name": "R",
   "pygments_lexer": "r",
   "version": "3.4.4"
  }
 },
 "nbformat": 4,
 "nbformat_minor": 2
}
